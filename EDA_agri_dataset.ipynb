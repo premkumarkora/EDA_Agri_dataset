{
  "cells": [
    {
      "cell_type": "markdown",
      "id": "d53e2840",
      "metadata": {
        "id": "d53e2840"
      },
      "source": [
        "## Steps\n",
        "### 1) loading the data\n",
        "### 2) descriptive statistics\n",
        "### 3) Data cleaning\n",
        "### 4) Data analysis and transformation"
      ]
    },
    {
      "cell_type": "code",
      "execution_count": null,
      "id": "55a1891f",
      "metadata": {
        "id": "55a1891f"
      },
      "outputs": [],
      "source": [
        "import pandas as pd\n",
        "import numpy as np\n",
        "import matplotlib.pyplot as plt\n",
        "import seaborn as sns"
      ]
    },
    {
      "cell_type": "code",
      "execution_count": null,
      "id": "a0fff9b1",
      "metadata": {
        "id": "a0fff9b1",
        "outputId": "8eeafaaa-31a5-4499-971f-3001c01b9556"
      },
      "outputs": [
        {
          "data": {
            "text/html": [
              "<div>\n",
              "<style scoped>\n",
              "    .dataframe tbody tr th:only-of-type {\n",
              "        vertical-align: middle;\n",
              "    }\n",
              "\n",
              "    .dataframe tbody tr th {\n",
              "        vertical-align: top;\n",
              "    }\n",
              "\n",
              "    .dataframe thead th {\n",
              "        text-align: right;\n",
              "    }\n",
              "</style>\n",
              "<table border=\"1\" class=\"dataframe\">\n",
              "  <thead>\n",
              "    <tr style=\"text-align: right;\">\n",
              "      <th></th>\n",
              "      <th>State</th>\n",
              "      <th>District</th>\n",
              "      <th>Crop</th>\n",
              "      <th>Year</th>\n",
              "      <th>Season</th>\n",
              "      <th>Area</th>\n",
              "      <th>Area Units</th>\n",
              "      <th>Production</th>\n",
              "      <th>Production Units</th>\n",
              "      <th>Yield</th>\n",
              "    </tr>\n",
              "  </thead>\n",
              "  <tbody>\n",
              "    <tr>\n",
              "      <th>0</th>\n",
              "      <td>Andaman and Nicobar Islands</td>\n",
              "      <td>NICOBARS</td>\n",
              "      <td>Arecanut</td>\n",
              "      <td>2001-02</td>\n",
              "      <td>Kharif</td>\n",
              "      <td>1254.0</td>\n",
              "      <td>Hectare</td>\n",
              "      <td>2061.0</td>\n",
              "      <td>Tonnes</td>\n",
              "      <td>1.643541</td>\n",
              "    </tr>\n",
              "    <tr>\n",
              "      <th>1</th>\n",
              "      <td>Andaman and Nicobar Islands</td>\n",
              "      <td>NICOBARS</td>\n",
              "      <td>Arecanut</td>\n",
              "      <td>2002-03</td>\n",
              "      <td>Whole Year</td>\n",
              "      <td>1258.0</td>\n",
              "      <td>Hectare</td>\n",
              "      <td>2083.0</td>\n",
              "      <td>Tonnes</td>\n",
              "      <td>1.655803</td>\n",
              "    </tr>\n",
              "    <tr>\n",
              "      <th>2</th>\n",
              "      <td>Andaman and Nicobar Islands</td>\n",
              "      <td>NICOBARS</td>\n",
              "      <td>Arecanut</td>\n",
              "      <td>2003-04</td>\n",
              "      <td>Whole Year</td>\n",
              "      <td>1261.0</td>\n",
              "      <td>Hectare</td>\n",
              "      <td>1525.0</td>\n",
              "      <td>Tonnes</td>\n",
              "      <td>1.209358</td>\n",
              "    </tr>\n",
              "    <tr>\n",
              "      <th>3</th>\n",
              "      <td>Andaman and Nicobar Islands</td>\n",
              "      <td>NORTH AND MIDDLE ANDAMAN</td>\n",
              "      <td>Arecanut</td>\n",
              "      <td>2001-02</td>\n",
              "      <td>Kharif</td>\n",
              "      <td>3100.0</td>\n",
              "      <td>Hectare</td>\n",
              "      <td>5239.0</td>\n",
              "      <td>Tonnes</td>\n",
              "      <td>1.690000</td>\n",
              "    </tr>\n",
              "    <tr>\n",
              "      <th>4</th>\n",
              "      <td>Andaman and Nicobar Islands</td>\n",
              "      <td>SOUTH ANDAMANS</td>\n",
              "      <td>Arecanut</td>\n",
              "      <td>2002-03</td>\n",
              "      <td>Whole Year</td>\n",
              "      <td>3105.0</td>\n",
              "      <td>Hectare</td>\n",
              "      <td>5267.0</td>\n",
              "      <td>Tonnes</td>\n",
              "      <td>1.696296</td>\n",
              "    </tr>\n",
              "    <tr>\n",
              "      <th>...</th>\n",
              "      <td>...</td>\n",
              "      <td>...</td>\n",
              "      <td>...</td>\n",
              "      <td>...</td>\n",
              "      <td>...</td>\n",
              "      <td>...</td>\n",
              "      <td>...</td>\n",
              "      <td>...</td>\n",
              "      <td>...</td>\n",
              "      <td>...</td>\n",
              "    </tr>\n",
              "    <tr>\n",
              "      <th>344203</th>\n",
              "      <td>Manipur</td>\n",
              "      <td>IMPHAL WEST</td>\n",
              "      <td>NaN</td>\n",
              "      <td>2019-20</td>\n",
              "      <td>Rabi</td>\n",
              "      <td>NaN</td>\n",
              "      <td>Hectare</td>\n",
              "      <td>NaN</td>\n",
              "      <td>Tonnes</td>\n",
              "      <td>NaN</td>\n",
              "    </tr>\n",
              "    <tr>\n",
              "      <th>344204</th>\n",
              "      <td>Manipur</td>\n",
              "      <td>SENAPATI</td>\n",
              "      <td>NaN</td>\n",
              "      <td>2019-20</td>\n",
              "      <td>Rabi</td>\n",
              "      <td>NaN</td>\n",
              "      <td>Hectare</td>\n",
              "      <td>NaN</td>\n",
              "      <td>Tonnes</td>\n",
              "      <td>NaN</td>\n",
              "    </tr>\n",
              "    <tr>\n",
              "      <th>344205</th>\n",
              "      <td>Manipur</td>\n",
              "      <td>TAMENGLONG</td>\n",
              "      <td>NaN</td>\n",
              "      <td>2019-20</td>\n",
              "      <td>Rabi</td>\n",
              "      <td>NaN</td>\n",
              "      <td>Hectare</td>\n",
              "      <td>NaN</td>\n",
              "      <td>Tonnes</td>\n",
              "      <td>NaN</td>\n",
              "    </tr>\n",
              "    <tr>\n",
              "      <th>344206</th>\n",
              "      <td>Manipur</td>\n",
              "      <td>THOUBAL</td>\n",
              "      <td>NaN</td>\n",
              "      <td>2019-20</td>\n",
              "      <td>Rabi</td>\n",
              "      <td>NaN</td>\n",
              "      <td>Hectare</td>\n",
              "      <td>NaN</td>\n",
              "      <td>Tonnes</td>\n",
              "      <td>NaN</td>\n",
              "    </tr>\n",
              "    <tr>\n",
              "      <th>344207</th>\n",
              "      <td>Manipur</td>\n",
              "      <td>UKHRUL</td>\n",
              "      <td>NaN</td>\n",
              "      <td>2019-20</td>\n",
              "      <td>Rabi</td>\n",
              "      <td>NaN</td>\n",
              "      <td>Hectare</td>\n",
              "      <td>NaN</td>\n",
              "      <td>Tonnes</td>\n",
              "      <td>NaN</td>\n",
              "    </tr>\n",
              "  </tbody>\n",
              "</table>\n",
              "<p>344208 rows × 10 columns</p>\n",
              "</div>"
            ],
            "text/plain": [
              "                              State                  District      Crop  \\\n",
              "0       Andaman and Nicobar Islands                  NICOBARS  Arecanut   \n",
              "1       Andaman and Nicobar Islands                  NICOBARS  Arecanut   \n",
              "2       Andaman and Nicobar Islands                  NICOBARS  Arecanut   \n",
              "3       Andaman and Nicobar Islands  NORTH AND MIDDLE ANDAMAN  Arecanut   \n",
              "4       Andaman and Nicobar Islands            SOUTH ANDAMANS  Arecanut   \n",
              "...                             ...                       ...       ...   \n",
              "344203                      Manipur               IMPHAL WEST       NaN   \n",
              "344204                      Manipur                  SENAPATI       NaN   \n",
              "344205                      Manipur                TAMENGLONG       NaN   \n",
              "344206                      Manipur                   THOUBAL       NaN   \n",
              "344207                      Manipur                    UKHRUL       NaN   \n",
              "\n",
              "           Year      Season    Area Area Units  Production Production Units  \\\n",
              "0       2001-02      Kharif  1254.0    Hectare      2061.0           Tonnes   \n",
              "1       2002-03  Whole Year  1258.0    Hectare      2083.0           Tonnes   \n",
              "2       2003-04  Whole Year  1261.0    Hectare      1525.0           Tonnes   \n",
              "3       2001-02      Kharif  3100.0    Hectare      5239.0           Tonnes   \n",
              "4       2002-03  Whole Year  3105.0    Hectare      5267.0           Tonnes   \n",
              "...         ...         ...     ...        ...         ...              ...   \n",
              "344203  2019-20        Rabi     NaN    Hectare         NaN           Tonnes   \n",
              "344204  2019-20        Rabi     NaN    Hectare         NaN           Tonnes   \n",
              "344205  2019-20        Rabi     NaN    Hectare         NaN           Tonnes   \n",
              "344206  2019-20        Rabi     NaN    Hectare         NaN           Tonnes   \n",
              "344207  2019-20        Rabi     NaN    Hectare         NaN           Tonnes   \n",
              "\n",
              "           Yield  \n",
              "0       1.643541  \n",
              "1       1.655803  \n",
              "2       1.209358  \n",
              "3       1.690000  \n",
              "4       1.696296  \n",
              "...          ...  \n",
              "344203       NaN  \n",
              "344204       NaN  \n",
              "344205       NaN  \n",
              "344206       NaN  \n",
              "344207       NaN  \n",
              "\n",
              "[344208 rows x 10 columns]"
            ]
          },
          "execution_count": 41,
          "metadata": {},
          "output_type": "execute_result"
        }
      ],
      "source": [
        "df = pd.read_csv('Agriculture.csv')\n",
        "df"
      ]
    },
    {
      "cell_type": "code",
      "execution_count": null,
      "id": "6ace5517",
      "metadata": {
        "id": "6ace5517",
        "outputId": "d1d10b67-f847-4a3d-f9d0-7cf6ae38709d"
      },
      "outputs": [
        {
          "name": "stdout",
          "output_type": "stream",
          "text": [
            "<class 'pandas.core.frame.DataFrame'>\n",
            "RangeIndex: 344208 entries, 0 to 344207\n",
            "Data columns (total 10 columns):\n",
            " #   Column            Non-Null Count   Dtype  \n",
            "---  ------            --------------   -----  \n",
            " 0   State             344208 non-null  object \n",
            " 1   District          344208 non-null  object \n",
            " 2   Crop              344099 non-null  object \n",
            " 3   Year              344208 non-null  object \n",
            " 4   Season            344208 non-null  object \n",
            " 5   Area              344099 non-null  float64\n",
            " 6   Area Units        344208 non-null  object \n",
            " 7   Production        339187 non-null  float64\n",
            " 8   Production Units  344208 non-null  object \n",
            " 9   Yield             344099 non-null  float64\n",
            "dtypes: float64(3), object(7)\n",
            "memory usage: 26.3+ MB\n"
          ]
        }
      ],
      "source": [
        "df.info()"
      ]
    },
    {
      "cell_type": "code",
      "execution_count": null,
      "id": "41665390",
      "metadata": {
        "id": "41665390",
        "outputId": "4bbfba36-40aa-44ca-d464-8192107f1a40"
      },
      "outputs": [
        {
          "data": {
            "text/html": [
              "<div>\n",
              "<style scoped>\n",
              "    .dataframe tbody tr th:only-of-type {\n",
              "        vertical-align: middle;\n",
              "    }\n",
              "\n",
              "    .dataframe tbody tr th {\n",
              "        vertical-align: top;\n",
              "    }\n",
              "\n",
              "    .dataframe thead th {\n",
              "        text-align: right;\n",
              "    }\n",
              "</style>\n",
              "<table border=\"1\" class=\"dataframe\">\n",
              "  <thead>\n",
              "    <tr style=\"text-align: right;\">\n",
              "      <th></th>\n",
              "      <th>Area</th>\n",
              "      <th>Production</th>\n",
              "      <th>Yield</th>\n",
              "    </tr>\n",
              "  </thead>\n",
              "  <tbody>\n",
              "    <tr>\n",
              "      <th>count</th>\n",
              "      <td>3.440990e+05</td>\n",
              "      <td>3.391870e+05</td>\n",
              "      <td>344099.000000</td>\n",
              "    </tr>\n",
              "    <tr>\n",
              "      <th>mean</th>\n",
              "      <td>1.169440e+04</td>\n",
              "      <td>9.617578e+05</td>\n",
              "      <td>79.687192</td>\n",
              "    </tr>\n",
              "    <tr>\n",
              "      <th>std</th>\n",
              "      <td>4.589432e+04</td>\n",
              "      <td>2.156868e+07</td>\n",
              "      <td>918.313641</td>\n",
              "    </tr>\n",
              "    <tr>\n",
              "      <th>min</th>\n",
              "      <td>4.000000e-03</td>\n",
              "      <td>0.000000e+00</td>\n",
              "      <td>0.000000</td>\n",
              "    </tr>\n",
              "    <tr>\n",
              "      <th>25%</th>\n",
              "      <td>7.500000e+01</td>\n",
              "      <td>8.800000e+01</td>\n",
              "      <td>0.548261</td>\n",
              "    </tr>\n",
              "    <tr>\n",
              "      <th>50%</th>\n",
              "      <td>5.360000e+02</td>\n",
              "      <td>7.210000e+02</td>\n",
              "      <td>1.000000</td>\n",
              "    </tr>\n",
              "    <tr>\n",
              "      <th>75%</th>\n",
              "      <td>4.133000e+03</td>\n",
              "      <td>7.208000e+03</td>\n",
              "      <td>2.469699</td>\n",
              "    </tr>\n",
              "    <tr>\n",
              "      <th>max</th>\n",
              "      <td>8.580100e+06</td>\n",
              "      <td>1.597800e+09</td>\n",
              "      <td>43958.333330</td>\n",
              "    </tr>\n",
              "  </tbody>\n",
              "</table>\n",
              "</div>"
            ],
            "text/plain": [
              "               Area    Production          Yield\n",
              "count  3.440990e+05  3.391870e+05  344099.000000\n",
              "mean   1.169440e+04  9.617578e+05      79.687192\n",
              "std    4.589432e+04  2.156868e+07     918.313641\n",
              "min    4.000000e-03  0.000000e+00       0.000000\n",
              "25%    7.500000e+01  8.800000e+01       0.548261\n",
              "50%    5.360000e+02  7.210000e+02       1.000000\n",
              "75%    4.133000e+03  7.208000e+03       2.469699\n",
              "max    8.580100e+06  1.597800e+09   43958.333330"
            ]
          },
          "execution_count": 43,
          "metadata": {},
          "output_type": "execute_result"
        }
      ],
      "source": [
        "df.describe()"
      ]
    },
    {
      "cell_type": "code",
      "execution_count": null,
      "id": "bbec8ad3",
      "metadata": {
        "id": "bbec8ad3",
        "outputId": "8a0ef661-3d8a-43b2-c8f5-df636f806c5f"
      },
      "outputs": [
        {
          "data": {
            "text/plain": [
              "3442080"
            ]
          },
          "execution_count": 44,
          "metadata": {},
          "output_type": "execute_result"
        }
      ],
      "source": [
        "df.size"
      ]
    },
    {
      "cell_type": "code",
      "execution_count": null,
      "id": "c9e1f185",
      "metadata": {
        "id": "c9e1f185",
        "outputId": "bcce8f6d-2077-44f4-9cef-5ba9c358dd0d"
      },
      "outputs": [
        {
          "data": {
            "text/plain": [
              "(344208, 10)"
            ]
          },
          "execution_count": 45,
          "metadata": {},
          "output_type": "execute_result"
        }
      ],
      "source": [
        "df.shape"
      ]
    },
    {
      "cell_type": "code",
      "execution_count": null,
      "id": "98be0c9b",
      "metadata": {
        "id": "98be0c9b",
        "outputId": "c04231d0-fdc6-4de8-f74e-4ed618f06cac"
      },
      "outputs": [
        {
          "data": {
            "text/html": [
              "<div>\n",
              "<style scoped>\n",
              "    .dataframe tbody tr th:only-of-type {\n",
              "        vertical-align: middle;\n",
              "    }\n",
              "\n",
              "    .dataframe tbody tr th {\n",
              "        vertical-align: top;\n",
              "    }\n",
              "\n",
              "    .dataframe thead th {\n",
              "        text-align: right;\n",
              "    }\n",
              "</style>\n",
              "<table border=\"1\" class=\"dataframe\">\n",
              "  <thead>\n",
              "    <tr style=\"text-align: right;\">\n",
              "      <th></th>\n",
              "      <th>State</th>\n",
              "      <th>District</th>\n",
              "      <th>Crop</th>\n",
              "      <th>Year</th>\n",
              "      <th>Season</th>\n",
              "      <th>Area</th>\n",
              "      <th>Area Units</th>\n",
              "      <th>Production</th>\n",
              "      <th>Production Units</th>\n",
              "      <th>Yield</th>\n",
              "    </tr>\n",
              "  </thead>\n",
              "  <tbody>\n",
              "    <tr>\n",
              "      <th>200008</th>\n",
              "      <td>Madhya Pradesh</td>\n",
              "      <td>INDORE</td>\n",
              "      <td>Soyabean</td>\n",
              "      <td>2015-16</td>\n",
              "      <td>Kharif</td>\n",
              "      <td>223000.0</td>\n",
              "      <td>Hectare</td>\n",
              "      <td>170000.0</td>\n",
              "      <td>Tonnes</td>\n",
              "      <td>0.762332</td>\n",
              "    </tr>\n",
              "    <tr>\n",
              "      <th>189392</th>\n",
              "      <td>Gujarat</td>\n",
              "      <td>SURENDRANAGAR</td>\n",
              "      <td>Wheat</td>\n",
              "      <td>2013-14</td>\n",
              "      <td>Rabi</td>\n",
              "      <td>36336.0</td>\n",
              "      <td>Hectare</td>\n",
              "      <td>110568.0</td>\n",
              "      <td>Tonnes</td>\n",
              "      <td>3.042933</td>\n",
              "    </tr>\n",
              "    <tr>\n",
              "      <th>161868</th>\n",
              "      <td>Odisha</td>\n",
              "      <td>KENDRAPARA</td>\n",
              "      <td>Sesamum</td>\n",
              "      <td>2012-13</td>\n",
              "      <td>Summer</td>\n",
              "      <td>46.0</td>\n",
              "      <td>Hectare</td>\n",
              "      <td>24.2</td>\n",
              "      <td>Tonnes</td>\n",
              "      <td>0.526087</td>\n",
              "    </tr>\n",
              "    <tr>\n",
              "      <th>313085</th>\n",
              "      <td>Karnataka</td>\n",
              "      <td>BIDAR</td>\n",
              "      <td>Ginger</td>\n",
              "      <td>2000-01</td>\n",
              "      <td>Kharif</td>\n",
              "      <td>1108.0</td>\n",
              "      <td>Hectare</td>\n",
              "      <td>14084.0</td>\n",
              "      <td>Tonnes</td>\n",
              "      <td>12.711191</td>\n",
              "    </tr>\n",
              "    <tr>\n",
              "      <th>21390</th>\n",
              "      <td>Madhya Pradesh</td>\n",
              "      <td>HARDA</td>\n",
              "      <td>Sesamum</td>\n",
              "      <td>2003-04</td>\n",
              "      <td>Kharif</td>\n",
              "      <td>656.0</td>\n",
              "      <td>Hectare</td>\n",
              "      <td>298.0</td>\n",
              "      <td>Tonnes</td>\n",
              "      <td>0.454268</td>\n",
              "    </tr>\n",
              "  </tbody>\n",
              "</table>\n",
              "</div>"
            ],
            "text/plain": [
              "                 State       District      Crop     Year  Season      Area  \\\n",
              "200008  Madhya Pradesh         INDORE  Soyabean  2015-16  Kharif  223000.0   \n",
              "189392         Gujarat  SURENDRANAGAR     Wheat  2013-14    Rabi   36336.0   \n",
              "161868          Odisha     KENDRAPARA   Sesamum  2012-13  Summer      46.0   \n",
              "313085       Karnataka          BIDAR    Ginger  2000-01  Kharif    1108.0   \n",
              "21390   Madhya Pradesh          HARDA   Sesamum  2003-04  Kharif     656.0   \n",
              "\n",
              "       Area Units  Production Production Units      Yield  \n",
              "200008    Hectare    170000.0           Tonnes   0.762332  \n",
              "189392    Hectare    110568.0           Tonnes   3.042933  \n",
              "161868    Hectare        24.2           Tonnes   0.526087  \n",
              "313085    Hectare     14084.0           Tonnes  12.711191  \n",
              "21390     Hectare       298.0           Tonnes   0.454268  "
            ]
          },
          "execution_count": 46,
          "metadata": {},
          "output_type": "execute_result"
        }
      ],
      "source": [
        "df.sample(n=5)"
      ]
    },
    {
      "cell_type": "code",
      "execution_count": null,
      "id": "8bc8488b",
      "metadata": {
        "id": "8bc8488b",
        "outputId": "516dd6ff-0b8a-4d5c-e9e6-9c7508c740f9"
      },
      "outputs": [
        {
          "data": {
            "text/plain": [
              "State                  0\n",
              "District               0\n",
              "Crop                 109\n",
              "Year                   0\n",
              "Season                 0\n",
              "Area                 109\n",
              "Area Units             0\n",
              "Production          5021\n",
              "Production Units       0\n",
              "Yield                109\n",
              "dtype: int64"
            ]
          },
          "execution_count": 47,
          "metadata": {},
          "output_type": "execute_result"
        }
      ],
      "source": [
        "df.isnull().sum()"
      ]
    },
    {
      "cell_type": "code",
      "execution_count": null,
      "id": "70f988a7",
      "metadata": {
        "scrolled": true,
        "id": "70f988a7",
        "outputId": "d75ef24e-b652-462d-f22e-99c148f4cb38"
      },
      "outputs": [
        {
          "data": {
            "text/plain": [
              "0"
            ]
          },
          "execution_count": 48,
          "metadata": {},
          "output_type": "execute_result"
        }
      ],
      "source": [
        "df.duplicated().sum()"
      ]
    },
    {
      "cell_type": "code",
      "execution_count": null,
      "id": "e3a222db",
      "metadata": {
        "scrolled": true,
        "id": "e3a222db",
        "outputId": "0c6db458-16d8-4918-fe5b-6e591333a961"
      },
      "outputs": [
        {
          "data": {
            "text/plain": [
              "Uttar Pradesh                  44781\n",
              "Madhya Pradesh                 29906\n",
              "Karnataka                      27493\n",
              "Bihar                          24697\n",
              "Rajasthan                      20363\n",
              "Tamil Nadu                     18486\n",
              "Assam                          18186\n",
              "Maharashtra                    17922\n",
              "Andhra Pradesh                 16363\n",
              "Odisha                         16153\n",
              "Chhattisgarh                   14410\n",
              "Gujarat                        14053\n",
              "West Bengal                    12596\n",
              "Haryana                         8305\n",
              "Uttarakhand                     6383\n",
              "Nagaland                        5676\n",
              "Himachal Pradesh                5043\n",
              "Jharkhand                       5004\n",
              "Kerala                          4870\n",
              "Telangana                       4684\n",
              "Jammu and Kashmir               4349\n",
              "Arunachal Pradesh               4345\n",
              "Meghalaya                       4322\n",
              "Punjab                          4142\n",
              "Manipur                         3120\n",
              "Tripura                         2557\n",
              "Mizoram                         2112\n",
              "Puducherry                      1127\n",
              "Sikkim                           876\n",
              "Andaman and Nicobar Islands      728\n",
              "Goa                              399\n",
              "Dadra and Nagar Haveli           347\n",
              "Delhi                            203\n",
              "Chandigarh                       124\n",
              "Daman and Diu                     44\n",
              "TamilNadu                         25\n",
              "Tamil nadu                        14\n",
              "Name: State, dtype: int64"
            ]
          },
          "execution_count": 49,
          "metadata": {},
          "output_type": "execute_result"
        }
      ],
      "source": [
        "df.State.value_counts()"
      ]
    },
    {
      "cell_type": "code",
      "execution_count": null,
      "id": "c586ba4a",
      "metadata": {
        "id": "c586ba4a"
      },
      "outputs": [],
      "source": [
        "df['State'] = df['State'].replace('TamilNadu','Tamil Nadu')"
      ]
    },
    {
      "cell_type": "code",
      "execution_count": null,
      "id": "52388a64",
      "metadata": {
        "id": "52388a64"
      },
      "outputs": [],
      "source": [
        "df['State'] = df['State'].replace('Tamil nadu','Tamil Nadu')"
      ]
    },
    {
      "cell_type": "code",
      "execution_count": null,
      "id": "e6b8a2e1",
      "metadata": {
        "id": "e6b8a2e1",
        "outputId": "962695e3-9f40-4297-f90e-46449babbb66"
      },
      "outputs": [
        {
          "data": {
            "text/html": [
              "<div>\n",
              "<style scoped>\n",
              "    .dataframe tbody tr th:only-of-type {\n",
              "        vertical-align: middle;\n",
              "    }\n",
              "\n",
              "    .dataframe tbody tr th {\n",
              "        vertical-align: top;\n",
              "    }\n",
              "\n",
              "    .dataframe thead th {\n",
              "        text-align: right;\n",
              "    }\n",
              "</style>\n",
              "<table border=\"1\" class=\"dataframe\">\n",
              "  <thead>\n",
              "    <tr style=\"text-align: right;\">\n",
              "      <th></th>\n",
              "      <th>District</th>\n",
              "    </tr>\n",
              "  </thead>\n",
              "  <tbody>\n",
              "    <tr>\n",
              "      <th>BIJAPUR</th>\n",
              "      <td>1255</td>\n",
              "    </tr>\n",
              "    <tr>\n",
              "      <th>BILASPUR</th>\n",
              "      <td>1212</td>\n",
              "    </tr>\n",
              "    <tr>\n",
              "      <th>BELGAUM</th>\n",
              "      <td>1197</td>\n",
              "    </tr>\n",
              "    <tr>\n",
              "      <th>TUMKUR</th>\n",
              "      <td>1175</td>\n",
              "    </tr>\n",
              "    <tr>\n",
              "      <th>AURANGABAD</th>\n",
              "      <td>1164</td>\n",
              "    </tr>\n",
              "    <tr>\n",
              "      <th>...</th>\n",
              "      <td>...</td>\n",
              "    </tr>\n",
              "    <tr>\n",
              "      <th>CHARAIDEO</th>\n",
              "      <td>2</td>\n",
              "    </tr>\n",
              "    <tr>\n",
              "      <th>BISWANATH</th>\n",
              "      <td>2</td>\n",
              "    </tr>\n",
              "    <tr>\n",
              "      <th>MUMBAI SUBURBAN</th>\n",
              "      <td>2</td>\n",
              "    </tr>\n",
              "    <tr>\n",
              "      <th>SOUTH SALMARA MANCACHAR</th>\n",
              "      <td>1</td>\n",
              "    </tr>\n",
              "    <tr>\n",
              "      <th>MUMBAI</th>\n",
              "      <td>1</td>\n",
              "    </tr>\n",
              "  </tbody>\n",
              "</table>\n",
              "<p>709 rows × 1 columns</p>\n",
              "</div>"
            ],
            "text/plain": [
              "                         District\n",
              "BIJAPUR                      1255\n",
              "BILASPUR                     1212\n",
              "BELGAUM                      1197\n",
              "TUMKUR                       1175\n",
              "AURANGABAD                   1164\n",
              "...                           ...\n",
              "CHARAIDEO                       2\n",
              "BISWANATH                       2\n",
              "MUMBAI SUBURBAN                 2\n",
              "SOUTH SALMARA MANCACHAR         1\n",
              "MUMBAI                          1\n",
              "\n",
              "[709 rows x 1 columns]"
            ]
          },
          "execution_count": 52,
          "metadata": {},
          "output_type": "execute_result"
        }
      ],
      "source": [
        "pd.DataFrame(df.District.value_counts())"
      ]
    },
    {
      "cell_type": "code",
      "execution_count": null,
      "id": "39d800c1",
      "metadata": {
        "id": "39d800c1",
        "outputId": "f8462081-5f63-40f8-9d1f-0b7fa2c81733"
      },
      "outputs": [
        {
          "data": {
            "text/plain": [
              "Rice                     21567\n",
              "Maize                    20462\n",
              "Moong(Green Gram)        15040\n",
              "Urad                     14512\n",
              "Sesamum                  13009\n",
              "Groundnut                12555\n",
              "Wheat                    11208\n",
              "Rapeseed &Mustard        10993\n",
              "Sugarcane                10913\n",
              "Arhar/Tur                10857\n",
              "Potato                   10694\n",
              "Onion                    10637\n",
              "Gram                     10436\n",
              "Jowar                     9746\n",
              "Dry chillies              8943\n",
              "Bajra                     7786\n",
              "Peas & beans (Pulses)     7226\n",
              "Sunflower                 7226\n",
              "Small millets             6947\n",
              "Cotton(lint)              6468\n",
              "Masoor                    6347\n",
              "Turmeric                  5915\n",
              "Barley                    5867\n",
              "Linseed                   5866\n",
              "Ragi                      5732\n",
              "Sweet potato              5719\n",
              "Other Kharif pulses       5680\n",
              "Horse-gram                5379\n",
              "Coriander                 5010\n",
              "Garlic                    5007\n",
              "Soyabean                  4962\n",
              "Other Rabi pulses         4837\n",
              "Castor seed               4677\n",
              "Ginger                    4653\n",
              "Banana                    4466\n",
              "Tobacco                   3584\n",
              "Sannhamp                  3003\n",
              "Coconut                   2925\n",
              "Niger seed                2775\n",
              "Mesta                     2392\n",
              "Tapioca                   2268\n",
              "Arecanut                  2192\n",
              "Guar seed                 2088\n",
              "Jute                      1909\n",
              "Cowpea(Lobia)             1761\n",
              "Safflower                 1754\n",
              "Khesari                   1735\n",
              "Cashewnut                 1573\n",
              "Black pepper              1417\n",
              "Moth                      1407\n",
              "Other Cereals             1375\n",
              "other oilseeds            1232\n",
              "Oilseeds total             702\n",
              "Cardamom                   575\n",
              "Other Summer Pulses         67\n",
              "banana                      11\n",
              "Bannana                      9\n",
              "Dry Ginger                   3\n",
              "Name: Crop, dtype: int64"
            ]
          },
          "execution_count": 53,
          "metadata": {},
          "output_type": "execute_result"
        }
      ],
      "source": [
        "df['Crop'].value_counts()"
      ]
    },
    {
      "cell_type": "code",
      "execution_count": null,
      "id": "848441b8",
      "metadata": {
        "id": "848441b8"
      },
      "outputs": [],
      "source": [
        "df['Crop'] = df['Crop'].replace('banana','Banana')"
      ]
    },
    {
      "cell_type": "code",
      "execution_count": null,
      "id": "7e449f39",
      "metadata": {
        "id": "7e449f39"
      },
      "outputs": [],
      "source": [
        "df['Crop'] = df['Crop'].replace('Bannana','Banana')"
      ]
    },
    {
      "cell_type": "code",
      "execution_count": null,
      "id": "7bf32fd9",
      "metadata": {
        "id": "7bf32fd9",
        "outputId": "0c9611f5-36f8-4364-e767-2d7bb8a03de8"
      },
      "outputs": [
        {
          "data": {
            "text/plain": [
              "Index(['State', 'District', 'Crop', 'Year', 'Season', 'Area', 'Area Units',\n",
              "       'Production', 'Production Units', 'Yield'],\n",
              "      dtype='object')"
            ]
          },
          "execution_count": 56,
          "metadata": {},
          "output_type": "execute_result"
        }
      ],
      "source": [
        "df.columns"
      ]
    },
    {
      "cell_type": "code",
      "execution_count": null,
      "id": "ef606320",
      "metadata": {
        "id": "ef606320",
        "outputId": "631ad56e-2fad-4918-aa1f-b88dc3fe002c"
      },
      "outputs": [
        {
          "data": {
            "text/plain": [
              "Kharif        137895\n",
              "Rabi          100591\n",
              "Whole Year     68399\n",
              "Summer         22084\n",
              "Winter          8250\n",
              "Autumn          6989\n",
              "Name: Season, dtype: int64"
            ]
          },
          "execution_count": 57,
          "metadata": {},
          "output_type": "execute_result"
        }
      ],
      "source": [
        "df['Season'].value_counts()"
      ]
    },
    {
      "cell_type": "code",
      "execution_count": null,
      "id": "c985ef0e",
      "metadata": {
        "id": "c985ef0e",
        "outputId": "67f7289a-fd90-4442-82c3-0e35a2cecd25"
      },
      "outputs": [
        {
          "data": {
            "text/plain": [
              "Hectare    344208\n",
              "Name: Area Units, dtype: int64"
            ]
          },
          "execution_count": 58,
          "metadata": {},
          "output_type": "execute_result"
        }
      ],
      "source": [
        "df['Area Units'].value_counts()"
      ]
    },
    {
      "cell_type": "code",
      "execution_count": null,
      "id": "fe635f6d",
      "metadata": {
        "id": "fe635f6d",
        "outputId": "2baff33c-e482-44fb-8394-88a9ce3ba9a3"
      },
      "outputs": [
        {
          "data": {
            "text/plain": [
              "Tonnes    330514\n",
              "Bales      10769\n",
              "Nuts        2925\n",
              "Name: Production Units, dtype: int64"
            ]
          },
          "execution_count": 59,
          "metadata": {},
          "output_type": "execute_result"
        }
      ],
      "source": [
        "df['Production Units'].value_counts()"
      ]
    },
    {
      "cell_type": "code",
      "execution_count": null,
      "id": "0419528a",
      "metadata": {
        "id": "0419528a"
      },
      "outputs": [],
      "source": [
        "df[\"Start_year\"] = df.Year.str.split('-')"
      ]
    },
    {
      "cell_type": "code",
      "execution_count": null,
      "id": "02391892",
      "metadata": {
        "id": "02391892"
      },
      "outputs": [],
      "source": [
        "df['start_year'] = df['Start_year'].apply(lambda x : x[0])"
      ]
    },
    {
      "cell_type": "code",
      "execution_count": null,
      "id": "184af478",
      "metadata": {
        "id": "184af478"
      },
      "outputs": [],
      "source": [
        "df['end_year'] = df['Start_year'].apply(lambda x : \"20\"+x[1] if x[0][0:2] ==\"20\" else \"19\"+x[1])"
      ]
    },
    {
      "cell_type": "code",
      "execution_count": null,
      "id": "0e10d857",
      "metadata": {
        "id": "0e10d857"
      },
      "outputs": [],
      "source": [
        "del df['Start_year']"
      ]
    },
    {
      "cell_type": "code",
      "execution_count": null,
      "id": "8537a57f",
      "metadata": {
        "id": "8537a57f"
      },
      "outputs": [],
      "source": [
        "del df['Year']"
      ]
    },
    {
      "cell_type": "code",
      "execution_count": null,
      "id": "1aca3e1d",
      "metadata": {
        "scrolled": true,
        "id": "1aca3e1d",
        "outputId": "fecbc6e3-aedd-4019-b8b7-543f349c781a"
      },
      "outputs": [
        {
          "data": {
            "text/html": [
              "<div>\n",
              "<style scoped>\n",
              "    .dataframe tbody tr th:only-of-type {\n",
              "        vertical-align: middle;\n",
              "    }\n",
              "\n",
              "    .dataframe tbody tr th {\n",
              "        vertical-align: top;\n",
              "    }\n",
              "\n",
              "    .dataframe thead th {\n",
              "        text-align: right;\n",
              "    }\n",
              "</style>\n",
              "<table border=\"1\" class=\"dataframe\">\n",
              "  <thead>\n",
              "    <tr style=\"text-align: right;\">\n",
              "      <th></th>\n",
              "      <th>State</th>\n",
              "      <th>District</th>\n",
              "      <th>Crop</th>\n",
              "      <th>Season</th>\n",
              "      <th>Area</th>\n",
              "      <th>Area Units</th>\n",
              "      <th>Production</th>\n",
              "      <th>Production Units</th>\n",
              "      <th>Yield</th>\n",
              "      <th>start_year</th>\n",
              "      <th>end_year</th>\n",
              "    </tr>\n",
              "  </thead>\n",
              "  <tbody>\n",
              "    <tr>\n",
              "      <th>0</th>\n",
              "      <td>Andaman and Nicobar Islands</td>\n",
              "      <td>NICOBARS</td>\n",
              "      <td>Arecanut</td>\n",
              "      <td>Kharif</td>\n",
              "      <td>1254.0</td>\n",
              "      <td>Hectare</td>\n",
              "      <td>2061.0</td>\n",
              "      <td>Tonnes</td>\n",
              "      <td>1.643541</td>\n",
              "      <td>2001</td>\n",
              "      <td>2002</td>\n",
              "    </tr>\n",
              "    <tr>\n",
              "      <th>1</th>\n",
              "      <td>Andaman and Nicobar Islands</td>\n",
              "      <td>NICOBARS</td>\n",
              "      <td>Arecanut</td>\n",
              "      <td>Whole Year</td>\n",
              "      <td>1258.0</td>\n",
              "      <td>Hectare</td>\n",
              "      <td>2083.0</td>\n",
              "      <td>Tonnes</td>\n",
              "      <td>1.655803</td>\n",
              "      <td>2002</td>\n",
              "      <td>2003</td>\n",
              "    </tr>\n",
              "    <tr>\n",
              "      <th>2</th>\n",
              "      <td>Andaman and Nicobar Islands</td>\n",
              "      <td>NICOBARS</td>\n",
              "      <td>Arecanut</td>\n",
              "      <td>Whole Year</td>\n",
              "      <td>1261.0</td>\n",
              "      <td>Hectare</td>\n",
              "      <td>1525.0</td>\n",
              "      <td>Tonnes</td>\n",
              "      <td>1.209358</td>\n",
              "      <td>2003</td>\n",
              "      <td>2004</td>\n",
              "    </tr>\n",
              "    <tr>\n",
              "      <th>3</th>\n",
              "      <td>Andaman and Nicobar Islands</td>\n",
              "      <td>NORTH AND MIDDLE ANDAMAN</td>\n",
              "      <td>Arecanut</td>\n",
              "      <td>Kharif</td>\n",
              "      <td>3100.0</td>\n",
              "      <td>Hectare</td>\n",
              "      <td>5239.0</td>\n",
              "      <td>Tonnes</td>\n",
              "      <td>1.690000</td>\n",
              "      <td>2001</td>\n",
              "      <td>2002</td>\n",
              "    </tr>\n",
              "    <tr>\n",
              "      <th>4</th>\n",
              "      <td>Andaman and Nicobar Islands</td>\n",
              "      <td>SOUTH ANDAMANS</td>\n",
              "      <td>Arecanut</td>\n",
              "      <td>Whole Year</td>\n",
              "      <td>3105.0</td>\n",
              "      <td>Hectare</td>\n",
              "      <td>5267.0</td>\n",
              "      <td>Tonnes</td>\n",
              "      <td>1.696296</td>\n",
              "      <td>2002</td>\n",
              "      <td>2003</td>\n",
              "    </tr>\n",
              "  </tbody>\n",
              "</table>\n",
              "</div>"
            ],
            "text/plain": [
              "                         State                  District      Crop  \\\n",
              "0  Andaman and Nicobar Islands                  NICOBARS  Arecanut   \n",
              "1  Andaman and Nicobar Islands                  NICOBARS  Arecanut   \n",
              "2  Andaman and Nicobar Islands                  NICOBARS  Arecanut   \n",
              "3  Andaman and Nicobar Islands  NORTH AND MIDDLE ANDAMAN  Arecanut   \n",
              "4  Andaman and Nicobar Islands            SOUTH ANDAMANS  Arecanut   \n",
              "\n",
              "       Season    Area Area Units  Production Production Units     Yield  \\\n",
              "0      Kharif  1254.0    Hectare      2061.0           Tonnes  1.643541   \n",
              "1  Whole Year  1258.0    Hectare      2083.0           Tonnes  1.655803   \n",
              "2  Whole Year  1261.0    Hectare      1525.0           Tonnes  1.209358   \n",
              "3      Kharif  3100.0    Hectare      5239.0           Tonnes  1.690000   \n",
              "4  Whole Year  3105.0    Hectare      5267.0           Tonnes  1.696296   \n",
              "\n",
              "  start_year end_year  \n",
              "0       2001     2002  \n",
              "1       2002     2003  \n",
              "2       2003     2004  \n",
              "3       2001     2002  \n",
              "4       2002     2003  "
            ]
          },
          "execution_count": 65,
          "metadata": {},
          "output_type": "execute_result"
        }
      ],
      "source": [
        "df.head()"
      ]
    },
    {
      "cell_type": "code",
      "execution_count": null,
      "id": "073bcbd2",
      "metadata": {
        "id": "073bcbd2"
      },
      "outputs": [],
      "source": []
    },
    {
      "cell_type": "code",
      "execution_count": null,
      "id": "2569781d",
      "metadata": {
        "id": "2569781d",
        "outputId": "8a169694-5f57-478d-e6f0-7ddd592d647f"
      },
      "outputs": [
        {
          "data": {
            "text/plain": [
              "State                  0\n",
              "District               0\n",
              "Crop                 109\n",
              "Season                 0\n",
              "Area                 109\n",
              "Area Units             0\n",
              "Production          5021\n",
              "Production Units       0\n",
              "Yield                109\n",
              "start_year             0\n",
              "end_year               0\n",
              "dtype: int64"
            ]
          },
          "execution_count": 66,
          "metadata": {},
          "output_type": "execute_result"
        }
      ],
      "source": [
        "df.isnull().sum()"
      ]
    },
    {
      "cell_type": "code",
      "execution_count": null,
      "id": "90b4e010",
      "metadata": {
        "id": "90b4e010",
        "outputId": "8410712a-958a-4974-9097-8f51e2fee674"
      },
      "outputs": [
        {
          "data": {
            "text/plain": [
              "Index(['State', 'District', 'Crop', 'Season', 'Area', 'Area Units',\n",
              "       'Production', 'Production Units', 'Yield', 'start_year', 'end_year'],\n",
              "      dtype='object')"
            ]
          },
          "execution_count": 67,
          "metadata": {},
          "output_type": "execute_result"
        }
      ],
      "source": [
        "df.columns"
      ]
    },
    {
      "cell_type": "code",
      "execution_count": null,
      "id": "fdc51e72",
      "metadata": {
        "scrolled": false,
        "id": "fdc51e72",
        "outputId": "bd792540-4128-4f21-aa67-1a5efd5eb0db"
      },
      "outputs": [
        {
          "name": "stderr",
          "output_type": "stream",
          "text": [
            "C:\\Users\\USER\\AppData\\Local\\Temp\\ipykernel_30264\\2861984197.py:1: FutureWarning: Not prepending group keys to the result index of transform-like apply. In the future, the group keys will be included in the index, regardless of whether the applied function returns a like-indexed object.\n",
            "To preserve the previous behavior, use\n",
            "\n",
            "\t>>> .groupby(..., group_keys=False)\n",
            "\n",
            "To adopt the future behavior and silence this warning, use \n",
            "\n",
            "\t>>> .groupby(..., group_keys=True)\n",
            "  df['Production'] = df.groupby(['State','District'])['Production'].apply(lambda x: x.fillna(x.mean()))\n"
          ]
        }
      ],
      "source": [
        "df['Production'] = df.groupby(['State','District'])['Production'].apply(lambda x: x.fillna(x.mean()))"
      ]
    },
    {
      "cell_type": "code",
      "execution_count": null,
      "id": "04986803",
      "metadata": {
        "id": "04986803",
        "outputId": "027b46e9-25ac-4b58-f333-b226a88d902c"
      },
      "outputs": [
        {
          "data": {
            "text/plain": [
              "State                 0\n",
              "District              0\n",
              "Crop                109\n",
              "Season                0\n",
              "Area                109\n",
              "Area Units            0\n",
              "Production            0\n",
              "Production Units      0\n",
              "Yield               109\n",
              "start_year            0\n",
              "end_year              0\n",
              "dtype: int64"
            ]
          },
          "execution_count": 71,
          "metadata": {},
          "output_type": "execute_result"
        }
      ],
      "source": [
        "df.isnull().sum()"
      ]
    },
    {
      "cell_type": "code",
      "execution_count": null,
      "id": "7fb43584",
      "metadata": {
        "id": "7fb43584"
      },
      "outputs": [],
      "source": [
        "df = df.dropna()"
      ]
    },
    {
      "cell_type": "code",
      "execution_count": null,
      "id": "984099a4",
      "metadata": {
        "id": "984099a4",
        "outputId": "f2b039f5-f2d4-48b5-ff86-2da053fa75b0"
      },
      "outputs": [
        {
          "data": {
            "text/plain": [
              "<AxesSubplot: >"
            ]
          },
          "execution_count": 73,
          "metadata": {},
          "output_type": "execute_result"
        },
        {
          "data": {
            "image/png": "[encoded data removed]",
            "text/plain": [
              "<Figure size 640x480 with 1 Axes>"
            ]
          },
          "metadata": {},
          "output_type": "display_data"
        }
      ],
      "source": [
        "sns.boxplot(df['Production'])"
      ]
    },
    {
      "cell_type": "code",
      "execution_count": null,
      "id": "92dd9507",
      "metadata": {
        "id": "92dd9507",
        "outputId": "a126f185-1886-423c-cac1-d8bf99e583bd"
      },
      "outputs": [
        {
          "data": {
            "text/plain": [
              "<AxesSubplot: >"
            ]
          },
          "execution_count": 74,
          "metadata": {},
          "output_type": "execute_result"
        },
        {
          "data": {
            "image/png": "[encoded data removed]",
            "text/plain": [
              "<Figure size 640x480 with 1 Axes>"
            ]
          },
          "metadata": {},
          "output_type": "display_data"
        }
      ],
      "source": [
        "sns.boxplot(df['Area'])"
      ]
    },
    {
      "cell_type": "code",
      "execution_count": null,
      "id": "d0ccfbe1",
      "metadata": {
        "id": "d0ccfbe1",
        "outputId": "bb3830a5-e7a3-42a7-b5a7-c612e388f788"
      },
      "outputs": [
        {
          "data": {
            "text/plain": [
              "<AxesSubplot: >"
            ]
          },
          "execution_count": 75,
          "metadata": {},
          "output_type": "execute_result"
        },
        {
          "data": {
            "image/png": "[encoded data removed]",
            "text/plain": [
              "<Figure size 640x480 with 1 Axes>"
            ]
          },
          "metadata": {},
          "output_type": "display_data"
        }
      ],
      "source": [
        "sns.boxplot(df['Yield'])"
      ]
    },
    {
      "cell_type": "code",
      "execution_count": null,
      "id": "11d6daf7",
      "metadata": {
        "id": "11d6daf7",
        "outputId": "5ffd7f44-c319-4b1f-f25e-9b69875e7df9"
      },
      "outputs": [
        {
          "data": {
            "text/html": [
              "<div>\n",
              "<style scoped>\n",
              "    .dataframe tbody tr th:only-of-type {\n",
              "        vertical-align: middle;\n",
              "    }\n",
              "\n",
              "    .dataframe tbody tr th {\n",
              "        vertical-align: top;\n",
              "    }\n",
              "\n",
              "    .dataframe thead th {\n",
              "        text-align: right;\n",
              "    }\n",
              "</style>\n",
              "<table border=\"1\" class=\"dataframe\">\n",
              "  <thead>\n",
              "    <tr style=\"text-align: right;\">\n",
              "      <th></th>\n",
              "      <th>State</th>\n",
              "      <th>District</th>\n",
              "      <th>Crop</th>\n",
              "      <th>Season</th>\n",
              "      <th>Area</th>\n",
              "      <th>Area Units</th>\n",
              "      <th>Production</th>\n",
              "      <th>Production Units</th>\n",
              "      <th>Yield</th>\n",
              "      <th>start_year</th>\n",
              "      <th>end_year</th>\n",
              "    </tr>\n",
              "  </thead>\n",
              "  <tbody>\n",
              "    <tr>\n",
              "      <th>343101</th>\n",
              "      <td>West Bengal</td>\n",
              "      <td>NADIA</td>\n",
              "      <td>Oilseeds total</td>\n",
              "      <td>Rabi</td>\n",
              "      <td>8580100.0</td>\n",
              "      <td>Hectare</td>\n",
              "      <td>7556300.0</td>\n",
              "      <td>Tonnes</td>\n",
              "      <td>0.880677</td>\n",
              "      <td>1997</td>\n",
              "      <td>1998</td>\n",
              "    </tr>\n",
              "  </tbody>\n",
              "</table>\n",
              "</div>"
            ],
            "text/plain": [
              "              State District            Crop Season       Area Area Units  \\\n",
              "343101  West Bengal    NADIA  Oilseeds total   Rabi  8580100.0    Hectare   \n",
              "\n",
              "        Production Production Units     Yield start_year end_year  \n",
              "343101   7556300.0           Tonnes  0.880677       1997     1998  "
            ]
          },
          "execution_count": 76,
          "metadata": {},
          "output_type": "execute_result"
        }
      ],
      "source": [
        "df[df['Area'] == df['Area'].max()]"
      ]
    },
    {
      "cell_type": "code",
      "execution_count": null,
      "id": "f13107c5",
      "metadata": {
        "id": "f13107c5",
        "outputId": "4e1ca660-b0ff-494d-da74-a3bde19606ff"
      },
      "outputs": [
        {
          "data": {
            "text/html": [
              "<div>\n",
              "<style scoped>\n",
              "    .dataframe tbody tr th:only-of-type {\n",
              "        vertical-align: middle;\n",
              "    }\n",
              "\n",
              "    .dataframe tbody tr th {\n",
              "        vertical-align: top;\n",
              "    }\n",
              "\n",
              "    .dataframe thead th {\n",
              "        text-align: right;\n",
              "    }\n",
              "</style>\n",
              "<table border=\"1\" class=\"dataframe\">\n",
              "  <thead>\n",
              "    <tr style=\"text-align: right;\">\n",
              "      <th></th>\n",
              "      <th>State</th>\n",
              "      <th>District</th>\n",
              "      <th>Crop</th>\n",
              "      <th>Season</th>\n",
              "      <th>Area</th>\n",
              "      <th>Area Units</th>\n",
              "      <th>Production</th>\n",
              "      <th>Production Units</th>\n",
              "      <th>Yield</th>\n",
              "      <th>start_year</th>\n",
              "      <th>end_year</th>\n",
              "    </tr>\n",
              "  </thead>\n",
              "  <tbody>\n",
              "    <tr>\n",
              "      <th>247175</th>\n",
              "      <td>Kerala</td>\n",
              "      <td>KOZHIKODE</td>\n",
              "      <td>Sesamum</td>\n",
              "      <td>Whole Year</td>\n",
              "      <td>0.004</td>\n",
              "      <td>Hectare</td>\n",
              "      <td>0.159</td>\n",
              "      <td>Tonnes</td>\n",
              "      <td>0.0</td>\n",
              "      <td>2016</td>\n",
              "      <td>2017</td>\n",
              "    </tr>\n",
              "    <tr>\n",
              "      <th>247202</th>\n",
              "      <td>Kerala</td>\n",
              "      <td>ERNAKULAM</td>\n",
              "      <td>Sugarcane</td>\n",
              "      <td>Whole Year</td>\n",
              "      <td>0.004</td>\n",
              "      <td>Hectare</td>\n",
              "      <td>790.068</td>\n",
              "      <td>Tonnes</td>\n",
              "      <td>0.0</td>\n",
              "      <td>2016</td>\n",
              "      <td>2017</td>\n",
              "    </tr>\n",
              "    <tr>\n",
              "      <th>247215</th>\n",
              "      <td>Kerala</td>\n",
              "      <td>KOZHIKODE</td>\n",
              "      <td>Sugarcane</td>\n",
              "      <td>Whole Year</td>\n",
              "      <td>0.004</td>\n",
              "      <td>Hectare</td>\n",
              "      <td>550.174</td>\n",
              "      <td>Tonnes</td>\n",
              "      <td>0.0</td>\n",
              "      <td>2017</td>\n",
              "      <td>2018</td>\n",
              "    </tr>\n",
              "  </tbody>\n",
              "</table>\n",
              "</div>"
            ],
            "text/plain": [
              "         State   District       Crop      Season   Area Area Units  \\\n",
              "247175  Kerala  KOZHIKODE    Sesamum  Whole Year  0.004    Hectare   \n",
              "247202  Kerala  ERNAKULAM  Sugarcane  Whole Year  0.004    Hectare   \n",
              "247215  Kerala  KOZHIKODE  Sugarcane  Whole Year  0.004    Hectare   \n",
              "\n",
              "        Production Production Units  Yield start_year end_year  \n",
              "247175       0.159           Tonnes    0.0       2016     2017  \n",
              "247202     790.068           Tonnes    0.0       2016     2017  \n",
              "247215     550.174           Tonnes    0.0       2017     2018  "
            ]
          },
          "execution_count": 77,
          "metadata": {},
          "output_type": "execute_result"
        }
      ],
      "source": [
        "df[df['Area'] == df['Area'].min()]"
      ]
    },
    {
      "cell_type": "code",
      "execution_count": null,
      "id": "9f31d43e",
      "metadata": {
        "id": "9f31d43e",
        "outputId": "6abd698b-376d-4fbd-9636-7effa800f76c"
      },
      "outputs": [
        {
          "data": {
            "text/html": [
              "<div>\n",
              "<style scoped>\n",
              "    .dataframe tbody tr th:only-of-type {\n",
              "        vertical-align: middle;\n",
              "    }\n",
              "\n",
              "    .dataframe tbody tr th {\n",
              "        vertical-align: top;\n",
              "    }\n",
              "\n",
              "    .dataframe thead th {\n",
              "        text-align: right;\n",
              "    }\n",
              "</style>\n",
              "<table border=\"1\" class=\"dataframe\">\n",
              "  <thead>\n",
              "    <tr style=\"text-align: right;\">\n",
              "      <th></th>\n",
              "      <th>State</th>\n",
              "      <th>District</th>\n",
              "      <th>Crop</th>\n",
              "      <th>Season</th>\n",
              "      <th>Area</th>\n",
              "      <th>Area Units</th>\n",
              "      <th>Production</th>\n",
              "      <th>Production Units</th>\n",
              "      <th>Yield</th>\n",
              "      <th>start_year</th>\n",
              "      <th>end_year</th>\n",
              "    </tr>\n",
              "  </thead>\n",
              "  <tbody>\n",
              "    <tr>\n",
              "      <th>6556</th>\n",
              "      <td>Bihar</td>\n",
              "      <td>NALANDA</td>\n",
              "      <td>Maize</td>\n",
              "      <td>Rabi</td>\n",
              "      <td>536.0</td>\n",
              "      <td>Hectare</td>\n",
              "      <td>785.0</td>\n",
              "      <td>Tonnes</td>\n",
              "      <td>1.464552</td>\n",
              "      <td>2001</td>\n",
              "      <td>2002</td>\n",
              "    </tr>\n",
              "    <tr>\n",
              "      <th>6801</th>\n",
              "      <td>Bihar</td>\n",
              "      <td>SIWAN</td>\n",
              "      <td>Masoor</td>\n",
              "      <td>Rabi</td>\n",
              "      <td>536.0</td>\n",
              "      <td>Hectare</td>\n",
              "      <td>404.0</td>\n",
              "      <td>Tonnes</td>\n",
              "      <td>0.753731</td>\n",
              "      <td>2002</td>\n",
              "      <td>2003</td>\n",
              "    </tr>\n",
              "    <tr>\n",
              "      <th>7300</th>\n",
              "      <td>Bihar</td>\n",
              "      <td>GAYA</td>\n",
              "      <td>Peas &amp; beans (Pulses)</td>\n",
              "      <td>Rabi</td>\n",
              "      <td>536.0</td>\n",
              "      <td>Hectare</td>\n",
              "      <td>527.0</td>\n",
              "      <td>Tonnes</td>\n",
              "      <td>0.983209</td>\n",
              "      <td>2001</td>\n",
              "      <td>2002</td>\n",
              "    </tr>\n",
              "    <tr>\n",
              "      <th>17016</th>\n",
              "      <td>Karnataka</td>\n",
              "      <td>BAGALKOT</td>\n",
              "      <td>Sesamum</td>\n",
              "      <td>Kharif</td>\n",
              "      <td>536.0</td>\n",
              "      <td>Hectare</td>\n",
              "      <td>236.0</td>\n",
              "      <td>Tonnes</td>\n",
              "      <td>0.440299</td>\n",
              "      <td>2003</td>\n",
              "      <td>2004</td>\n",
              "    </tr>\n",
              "    <tr>\n",
              "      <th>39768</th>\n",
              "      <td>Uttarakhand</td>\n",
              "      <td>UTTAR KASHI</td>\n",
              "      <td>Maize</td>\n",
              "      <td>Kharif</td>\n",
              "      <td>536.0</td>\n",
              "      <td>Hectare</td>\n",
              "      <td>714.0</td>\n",
              "      <td>Tonnes</td>\n",
              "      <td>1.332090</td>\n",
              "      <td>2003</td>\n",
              "      <td>2004</td>\n",
              "    </tr>\n",
              "    <tr>\n",
              "      <th>...</th>\n",
              "      <td>...</td>\n",
              "      <td>...</td>\n",
              "      <td>...</td>\n",
              "      <td>...</td>\n",
              "      <td>...</td>\n",
              "      <td>...</td>\n",
              "      <td>...</td>\n",
              "      <td>...</td>\n",
              "      <td>...</td>\n",
              "      <td>...</td>\n",
              "      <td>...</td>\n",
              "    </tr>\n",
              "    <tr>\n",
              "      <th>288241</th>\n",
              "      <td>Mizoram</td>\n",
              "      <td>LUNGLEI</td>\n",
              "      <td>Maize</td>\n",
              "      <td>Kharif</td>\n",
              "      <td>536.0</td>\n",
              "      <td>Hectare</td>\n",
              "      <td>827.0</td>\n",
              "      <td>Tonnes</td>\n",
              "      <td>1.542910</td>\n",
              "      <td>2019</td>\n",
              "      <td>2020</td>\n",
              "    </tr>\n",
              "    <tr>\n",
              "      <th>314054</th>\n",
              "      <td>Karnataka</td>\n",
              "      <td>TUMKUR</td>\n",
              "      <td>Maize</td>\n",
              "      <td>Rabi</td>\n",
              "      <td>536.0</td>\n",
              "      <td>Hectare</td>\n",
              "      <td>1312.0</td>\n",
              "      <td>Tonnes</td>\n",
              "      <td>2.447761</td>\n",
              "      <td>1999</td>\n",
              "      <td>1900</td>\n",
              "    </tr>\n",
              "    <tr>\n",
              "      <th>315529</th>\n",
              "      <td>Karnataka</td>\n",
              "      <td>TUMKUR</td>\n",
              "      <td>Sunflower</td>\n",
              "      <td>Summer</td>\n",
              "      <td>536.0</td>\n",
              "      <td>Hectare</td>\n",
              "      <td>302.0</td>\n",
              "      <td>Tonnes</td>\n",
              "      <td>0.563433</td>\n",
              "      <td>1999</td>\n",
              "      <td>1900</td>\n",
              "    </tr>\n",
              "    <tr>\n",
              "      <th>315878</th>\n",
              "      <td>Kerala</td>\n",
              "      <td>ALAPPUZHA</td>\n",
              "      <td>Banana</td>\n",
              "      <td>Whole Year</td>\n",
              "      <td>536.0</td>\n",
              "      <td>Hectare</td>\n",
              "      <td>5418.0</td>\n",
              "      <td>Tonnes</td>\n",
              "      <td>10.108209</td>\n",
              "      <td>1999</td>\n",
              "      <td>1900</td>\n",
              "    </tr>\n",
              "    <tr>\n",
              "      <th>326863</th>\n",
              "      <td>Odisha</td>\n",
              "      <td>GAJAPATI</td>\n",
              "      <td>Rice</td>\n",
              "      <td>Summer</td>\n",
              "      <td>536.0</td>\n",
              "      <td>Hectare</td>\n",
              "      <td>595.0</td>\n",
              "      <td>Tonnes</td>\n",
              "      <td>1.110075</td>\n",
              "      <td>1998</td>\n",
              "      <td>1999</td>\n",
              "    </tr>\n",
              "  </tbody>\n",
              "</table>\n",
              "<p>65 rows × 11 columns</p>\n",
              "</div>"
            ],
            "text/plain": [
              "              State     District                   Crop      Season   Area  \\\n",
              "6556          Bihar      NALANDA                  Maize        Rabi  536.0   \n",
              "6801          Bihar        SIWAN                 Masoor        Rabi  536.0   \n",
              "7300          Bihar         GAYA  Peas & beans (Pulses)        Rabi  536.0   \n",
              "17016     Karnataka     BAGALKOT                Sesamum      Kharif  536.0   \n",
              "39768   Uttarakhand  UTTAR KASHI                  Maize      Kharif  536.0   \n",
              "...             ...          ...                    ...         ...    ...   \n",
              "288241      Mizoram      LUNGLEI                  Maize      Kharif  536.0   \n",
              "314054    Karnataka       TUMKUR                  Maize        Rabi  536.0   \n",
              "315529    Karnataka       TUMKUR              Sunflower      Summer  536.0   \n",
              "315878       Kerala    ALAPPUZHA                 Banana  Whole Year  536.0   \n",
              "326863       Odisha     GAJAPATI                   Rice      Summer  536.0   \n",
              "\n",
              "       Area Units  Production Production Units      Yield start_year end_year  \n",
              "6556      Hectare       785.0           Tonnes   1.464552       2001     2002  \n",
              "6801      Hectare       404.0           Tonnes   0.753731       2002     2003  \n",
              "7300      Hectare       527.0           Tonnes   0.983209       2001     2002  \n",
              "17016     Hectare       236.0           Tonnes   0.440299       2003     2004  \n",
              "39768     Hectare       714.0           Tonnes   1.332090       2003     2004  \n",
              "...           ...         ...              ...        ...        ...      ...  \n",
              "288241    Hectare       827.0           Tonnes   1.542910       2019     2020  \n",
              "314054    Hectare      1312.0           Tonnes   2.447761       1999     1900  \n",
              "315529    Hectare       302.0           Tonnes   0.563433       1999     1900  \n",
              "315878    Hectare      5418.0           Tonnes  10.108209       1999     1900  \n",
              "326863    Hectare       595.0           Tonnes   1.110075       1998     1999  \n",
              "\n",
              "[65 rows x 11 columns]"
            ]
          },
          "execution_count": 78,
          "metadata": {},
          "output_type": "execute_result"
        }
      ],
      "source": [
        "df[df['Area'] == df['Area'].median()]"
      ]
    },
    {
      "cell_type": "code",
      "execution_count": null,
      "id": "7e4da72d",
      "metadata": {
        "id": "7e4da72d"
      },
      "outputs": [],
      "source": [
        "count = df.groupby('Crop').Crop.count().sort_values(ascending=False).to_frame()"
      ]
    },
    {
      "cell_type": "code",
      "execution_count": null,
      "id": "5a18060f",
      "metadata": {
        "id": "5a18060f"
      },
      "outputs": [],
      "source": [
        "count.rename(columns={'Crop':\"Count\"},inplace=True)"
      ]
    },
    {
      "cell_type": "code",
      "execution_count": null,
      "id": "7c9e73e8",
      "metadata": {
        "id": "7c9e73e8"
      },
      "outputs": [],
      "source": [
        "count = count.reset_index()"
      ]
    },
    {
      "cell_type": "code",
      "execution_count": null,
      "id": "613953b1",
      "metadata": {
        "id": "613953b1",
        "outputId": "85bac329-44bc-47cd-ade8-bbbbce6d3eba"
      },
      "outputs": [
        {
          "data": {
            "text/html": [
              "<div>\n",
              "<style scoped>\n",
              "    .dataframe tbody tr th:only-of-type {\n",
              "        vertical-align: middle;\n",
              "    }\n",
              "\n",
              "    .dataframe tbody tr th {\n",
              "        vertical-align: top;\n",
              "    }\n",
              "\n",
              "    .dataframe thead th {\n",
              "        text-align: right;\n",
              "    }\n",
              "</style>\n",
              "<table border=\"1\" class=\"dataframe\">\n",
              "  <thead>\n",
              "    <tr style=\"text-align: right;\">\n",
              "      <th></th>\n",
              "      <th>Crop</th>\n",
              "      <th>Count</th>\n",
              "    </tr>\n",
              "  </thead>\n",
              "  <tbody>\n",
              "    <tr>\n",
              "      <th>0</th>\n",
              "      <td>Rice</td>\n",
              "      <td>21567</td>\n",
              "    </tr>\n",
              "    <tr>\n",
              "      <th>1</th>\n",
              "      <td>Maize</td>\n",
              "      <td>20462</td>\n",
              "    </tr>\n",
              "    <tr>\n",
              "      <th>2</th>\n",
              "      <td>Moong(Green Gram)</td>\n",
              "      <td>15040</td>\n",
              "    </tr>\n",
              "    <tr>\n",
              "      <th>3</th>\n",
              "      <td>Urad</td>\n",
              "      <td>14512</td>\n",
              "    </tr>\n",
              "    <tr>\n",
              "      <th>4</th>\n",
              "      <td>Sesamum</td>\n",
              "      <td>13009</td>\n",
              "    </tr>\n",
              "    <tr>\n",
              "      <th>5</th>\n",
              "      <td>Groundnut</td>\n",
              "      <td>12555</td>\n",
              "    </tr>\n",
              "    <tr>\n",
              "      <th>6</th>\n",
              "      <td>Wheat</td>\n",
              "      <td>11208</td>\n",
              "    </tr>\n",
              "    <tr>\n",
              "      <th>7</th>\n",
              "      <td>Rapeseed &amp;Mustard</td>\n",
              "      <td>10993</td>\n",
              "    </tr>\n",
              "    <tr>\n",
              "      <th>8</th>\n",
              "      <td>Sugarcane</td>\n",
              "      <td>10913</td>\n",
              "    </tr>\n",
              "    <tr>\n",
              "      <th>9</th>\n",
              "      <td>Arhar/Tur</td>\n",
              "      <td>10857</td>\n",
              "    </tr>\n",
              "    <tr>\n",
              "      <th>10</th>\n",
              "      <td>Potato</td>\n",
              "      <td>10694</td>\n",
              "    </tr>\n",
              "    <tr>\n",
              "      <th>11</th>\n",
              "      <td>Onion</td>\n",
              "      <td>10637</td>\n",
              "    </tr>\n",
              "    <tr>\n",
              "      <th>12</th>\n",
              "      <td>Gram</td>\n",
              "      <td>10436</td>\n",
              "    </tr>\n",
              "    <tr>\n",
              "      <th>13</th>\n",
              "      <td>Jowar</td>\n",
              "      <td>9746</td>\n",
              "    </tr>\n",
              "    <tr>\n",
              "      <th>14</th>\n",
              "      <td>Dry chillies</td>\n",
              "      <td>8943</td>\n",
              "    </tr>\n",
              "    <tr>\n",
              "      <th>15</th>\n",
              "      <td>Bajra</td>\n",
              "      <td>7786</td>\n",
              "    </tr>\n",
              "    <tr>\n",
              "      <th>16</th>\n",
              "      <td>Peas &amp; beans (Pulses)</td>\n",
              "      <td>7226</td>\n",
              "    </tr>\n",
              "    <tr>\n",
              "      <th>17</th>\n",
              "      <td>Sunflower</td>\n",
              "      <td>7226</td>\n",
              "    </tr>\n",
              "    <tr>\n",
              "      <th>18</th>\n",
              "      <td>Small millets</td>\n",
              "      <td>6947</td>\n",
              "    </tr>\n",
              "    <tr>\n",
              "      <th>19</th>\n",
              "      <td>Cotton(lint)</td>\n",
              "      <td>6468</td>\n",
              "    </tr>\n",
              "    <tr>\n",
              "      <th>20</th>\n",
              "      <td>Masoor</td>\n",
              "      <td>6347</td>\n",
              "    </tr>\n",
              "    <tr>\n",
              "      <th>21</th>\n",
              "      <td>Turmeric</td>\n",
              "      <td>5915</td>\n",
              "    </tr>\n",
              "    <tr>\n",
              "      <th>22</th>\n",
              "      <td>Barley</td>\n",
              "      <td>5867</td>\n",
              "    </tr>\n",
              "    <tr>\n",
              "      <th>23</th>\n",
              "      <td>Linseed</td>\n",
              "      <td>5866</td>\n",
              "    </tr>\n",
              "    <tr>\n",
              "      <th>24</th>\n",
              "      <td>Ragi</td>\n",
              "      <td>5732</td>\n",
              "    </tr>\n",
              "    <tr>\n",
              "      <th>25</th>\n",
              "      <td>Sweet potato</td>\n",
              "      <td>5719</td>\n",
              "    </tr>\n",
              "    <tr>\n",
              "      <th>26</th>\n",
              "      <td>Other Kharif pulses</td>\n",
              "      <td>5680</td>\n",
              "    </tr>\n",
              "    <tr>\n",
              "      <th>27</th>\n",
              "      <td>Horse-gram</td>\n",
              "      <td>5379</td>\n",
              "    </tr>\n",
              "    <tr>\n",
              "      <th>28</th>\n",
              "      <td>Coriander</td>\n",
              "      <td>5010</td>\n",
              "    </tr>\n",
              "    <tr>\n",
              "      <th>29</th>\n",
              "      <td>Garlic</td>\n",
              "      <td>5007</td>\n",
              "    </tr>\n",
              "    <tr>\n",
              "      <th>30</th>\n",
              "      <td>Soyabean</td>\n",
              "      <td>4962</td>\n",
              "    </tr>\n",
              "    <tr>\n",
              "      <th>31</th>\n",
              "      <td>Other Rabi pulses</td>\n",
              "      <td>4837</td>\n",
              "    </tr>\n",
              "    <tr>\n",
              "      <th>32</th>\n",
              "      <td>Castor seed</td>\n",
              "      <td>4677</td>\n",
              "    </tr>\n",
              "    <tr>\n",
              "      <th>33</th>\n",
              "      <td>Ginger</td>\n",
              "      <td>4653</td>\n",
              "    </tr>\n",
              "    <tr>\n",
              "      <th>34</th>\n",
              "      <td>Banana</td>\n",
              "      <td>4486</td>\n",
              "    </tr>\n",
              "    <tr>\n",
              "      <th>35</th>\n",
              "      <td>Tobacco</td>\n",
              "      <td>3584</td>\n",
              "    </tr>\n",
              "    <tr>\n",
              "      <th>36</th>\n",
              "      <td>Sannhamp</td>\n",
              "      <td>3003</td>\n",
              "    </tr>\n",
              "    <tr>\n",
              "      <th>37</th>\n",
              "      <td>Coconut</td>\n",
              "      <td>2925</td>\n",
              "    </tr>\n",
              "    <tr>\n",
              "      <th>38</th>\n",
              "      <td>Niger seed</td>\n",
              "      <td>2775</td>\n",
              "    </tr>\n",
              "    <tr>\n",
              "      <th>39</th>\n",
              "      <td>Mesta</td>\n",
              "      <td>2392</td>\n",
              "    </tr>\n",
              "    <tr>\n",
              "      <th>40</th>\n",
              "      <td>Tapioca</td>\n",
              "      <td>2268</td>\n",
              "    </tr>\n",
              "    <tr>\n",
              "      <th>41</th>\n",
              "      <td>Arecanut</td>\n",
              "      <td>2192</td>\n",
              "    </tr>\n",
              "    <tr>\n",
              "      <th>42</th>\n",
              "      <td>Guar seed</td>\n",
              "      <td>2088</td>\n",
              "    </tr>\n",
              "    <tr>\n",
              "      <th>43</th>\n",
              "      <td>Jute</td>\n",
              "      <td>1909</td>\n",
              "    </tr>\n",
              "    <tr>\n",
              "      <th>44</th>\n",
              "      <td>Cowpea(Lobia)</td>\n",
              "      <td>1761</td>\n",
              "    </tr>\n",
              "    <tr>\n",
              "      <th>45</th>\n",
              "      <td>Safflower</td>\n",
              "      <td>1754</td>\n",
              "    </tr>\n",
              "    <tr>\n",
              "      <th>46</th>\n",
              "      <td>Khesari</td>\n",
              "      <td>1735</td>\n",
              "    </tr>\n",
              "    <tr>\n",
              "      <th>47</th>\n",
              "      <td>Cashewnut</td>\n",
              "      <td>1573</td>\n",
              "    </tr>\n",
              "    <tr>\n",
              "      <th>48</th>\n",
              "      <td>Black pepper</td>\n",
              "      <td>1417</td>\n",
              "    </tr>\n",
              "    <tr>\n",
              "      <th>49</th>\n",
              "      <td>Moth</td>\n",
              "      <td>1407</td>\n",
              "    </tr>\n",
              "    <tr>\n",
              "      <th>50</th>\n",
              "      <td>Other Cereals</td>\n",
              "      <td>1375</td>\n",
              "    </tr>\n",
              "    <tr>\n",
              "      <th>51</th>\n",
              "      <td>other oilseeds</td>\n",
              "      <td>1232</td>\n",
              "    </tr>\n",
              "    <tr>\n",
              "      <th>52</th>\n",
              "      <td>Oilseeds total</td>\n",
              "      <td>702</td>\n",
              "    </tr>\n",
              "    <tr>\n",
              "      <th>53</th>\n",
              "      <td>Cardamom</td>\n",
              "      <td>575</td>\n",
              "    </tr>\n",
              "    <tr>\n",
              "      <th>54</th>\n",
              "      <td>Other Summer Pulses</td>\n",
              "      <td>67</td>\n",
              "    </tr>\n",
              "    <tr>\n",
              "      <th>55</th>\n",
              "      <td>Dry Ginger</td>\n",
              "      <td>3</td>\n",
              "    </tr>\n",
              "  </tbody>\n",
              "</table>\n",
              "</div>"
            ],
            "text/plain": [
              "                     Crop  Count\n",
              "0                    Rice  21567\n",
              "1                   Maize  20462\n",
              "2       Moong(Green Gram)  15040\n",
              "3                    Urad  14512\n",
              "4                 Sesamum  13009\n",
              "5               Groundnut  12555\n",
              "6                   Wheat  11208\n",
              "7       Rapeseed &Mustard  10993\n",
              "8               Sugarcane  10913\n",
              "9               Arhar/Tur  10857\n",
              "10                 Potato  10694\n",
              "11                  Onion  10637\n",
              "12                   Gram  10436\n",
              "13                  Jowar   9746\n",
              "14           Dry chillies   8943\n",
              "15                  Bajra   7786\n",
              "16  Peas & beans (Pulses)   7226\n",
              "17              Sunflower   7226\n",
              "18          Small millets   6947\n",
              "19           Cotton(lint)   6468\n",
              "20                 Masoor   6347\n",
              "21               Turmeric   5915\n",
              "22                 Barley   5867\n",
              "23                Linseed   5866\n",
              "24                   Ragi   5732\n",
              "25           Sweet potato   5719\n",
              "26    Other Kharif pulses   5680\n",
              "27             Horse-gram   5379\n",
              "28              Coriander   5010\n",
              "29                 Garlic   5007\n",
              "30               Soyabean   4962\n",
              "31      Other Rabi pulses   4837\n",
              "32            Castor seed   4677\n",
              "33                 Ginger   4653\n",
              "34                 Banana   4486\n",
              "35                Tobacco   3584\n",
              "36               Sannhamp   3003\n",
              "37                Coconut   2925\n",
              "38             Niger seed   2775\n",
              "39                  Mesta   2392\n",
              "40                Tapioca   2268\n",
              "41               Arecanut   2192\n",
              "42              Guar seed   2088\n",
              "43                   Jute   1909\n",
              "44          Cowpea(Lobia)   1761\n",
              "45              Safflower   1754\n",
              "46                Khesari   1735\n",
              "47              Cashewnut   1573\n",
              "48           Black pepper   1417\n",
              "49                   Moth   1407\n",
              "50          Other Cereals   1375\n",
              "51         other oilseeds   1232\n",
              "52         Oilseeds total    702\n",
              "53               Cardamom    575\n",
              "54    Other Summer Pulses     67\n",
              "55             Dry Ginger      3"
            ]
          },
          "execution_count": 99,
          "metadata": {},
          "output_type": "execute_result"
        }
      ],
      "source": [
        "count"
      ]
    },
    {
      "cell_type": "code",
      "execution_count": null,
      "id": "cb8d487f",
      "metadata": {
        "id": "cb8d487f",
        "outputId": "207e2cde-0b90-463f-bb32-d20115beb2a8"
      },
      "outputs": [
        {
          "data": {
            "image/png": "[encoded data removed]",
            "text/plain": [
              "<Figure size 1500x1000 with 1 Axes>"
            ]
          },
          "metadata": {},
          "output_type": "display_data"
        }
      ],
      "source": [
        "sns.set(rc={\"figure.figsize\" :(15,10)})\n",
        "ax = sns.barplot(data=count,x='Crop',y='Count')\n",
        "ax.tick_params(axis='x',rotation=90)"
      ]
    },
    {
      "cell_type": "code",
      "execution_count": null,
      "id": "c9ec44e9",
      "metadata": {
        "id": "c9ec44e9"
      },
      "outputs": [],
      "source": [
        "tn = df[df['State'] == 'Tamil Nadu']"
      ]
    },
    {
      "cell_type": "code",
      "execution_count": null,
      "id": "b1292452",
      "metadata": {
        "id": "b1292452"
      },
      "outputs": [],
      "source": [
        "ttn = df[(df['Production Units'] != 'Nuts') & (df['Production Units'] != 'Bales')]"
      ]
    },
    {
      "cell_type": "code",
      "execution_count": null,
      "id": "acacc0a8",
      "metadata": {
        "id": "acacc0a8",
        "outputId": "6d7027c9-4ce3-4c79-c993-77e97dbfc827"
      },
      "outputs": [
        {
          "data": {
            "text/html": [
              "<div>\n",
              "<style scoped>\n",
              "    .dataframe tbody tr th:only-of-type {\n",
              "        vertical-align: middle;\n",
              "    }\n",
              "\n",
              "    .dataframe tbody tr th {\n",
              "        vertical-align: top;\n",
              "    }\n",
              "\n",
              "    .dataframe thead th {\n",
              "        text-align: right;\n",
              "    }\n",
              "</style>\n",
              "<table border=\"1\" class=\"dataframe\">\n",
              "  <thead>\n",
              "    <tr style=\"text-align: right;\">\n",
              "      <th></th>\n",
              "      <th>State</th>\n",
              "      <th>District</th>\n",
              "      <th>Crop</th>\n",
              "      <th>Season</th>\n",
              "      <th>Area</th>\n",
              "      <th>Area Units</th>\n",
              "      <th>Production</th>\n",
              "      <th>Production Units</th>\n",
              "      <th>Yield</th>\n",
              "      <th>start_year</th>\n",
              "      <th>end_year</th>\n",
              "    </tr>\n",
              "  </thead>\n",
              "  <tbody>\n",
              "    <tr>\n",
              "      <th>0</th>\n",
              "      <td>Andaman and Nicobar Islands</td>\n",
              "      <td>NICOBARS</td>\n",
              "      <td>Arecanut</td>\n",
              "      <td>Kharif</td>\n",
              "      <td>1254.0</td>\n",
              "      <td>Hectare</td>\n",
              "      <td>2061.0</td>\n",
              "      <td>Tonnes</td>\n",
              "      <td>1.643541</td>\n",
              "      <td>2001</td>\n",
              "      <td>2002</td>\n",
              "    </tr>\n",
              "    <tr>\n",
              "      <th>1</th>\n",
              "      <td>Andaman and Nicobar Islands</td>\n",
              "      <td>NICOBARS</td>\n",
              "      <td>Arecanut</td>\n",
              "      <td>Whole Year</td>\n",
              "      <td>1258.0</td>\n",
              "      <td>Hectare</td>\n",
              "      <td>2083.0</td>\n",
              "      <td>Tonnes</td>\n",
              "      <td>1.655803</td>\n",
              "      <td>2002</td>\n",
              "      <td>2003</td>\n",
              "    </tr>\n",
              "    <tr>\n",
              "      <th>2</th>\n",
              "      <td>Andaman and Nicobar Islands</td>\n",
              "      <td>NICOBARS</td>\n",
              "      <td>Arecanut</td>\n",
              "      <td>Whole Year</td>\n",
              "      <td>1261.0</td>\n",
              "      <td>Hectare</td>\n",
              "      <td>1525.0</td>\n",
              "      <td>Tonnes</td>\n",
              "      <td>1.209358</td>\n",
              "      <td>2003</td>\n",
              "      <td>2004</td>\n",
              "    </tr>\n",
              "    <tr>\n",
              "      <th>3</th>\n",
              "      <td>Andaman and Nicobar Islands</td>\n",
              "      <td>NORTH AND MIDDLE ANDAMAN</td>\n",
              "      <td>Arecanut</td>\n",
              "      <td>Kharif</td>\n",
              "      <td>3100.0</td>\n",
              "      <td>Hectare</td>\n",
              "      <td>5239.0</td>\n",
              "      <td>Tonnes</td>\n",
              "      <td>1.690000</td>\n",
              "      <td>2001</td>\n",
              "      <td>2002</td>\n",
              "    </tr>\n",
              "    <tr>\n",
              "      <th>4</th>\n",
              "      <td>Andaman and Nicobar Islands</td>\n",
              "      <td>SOUTH ANDAMANS</td>\n",
              "      <td>Arecanut</td>\n",
              "      <td>Whole Year</td>\n",
              "      <td>3105.0</td>\n",
              "      <td>Hectare</td>\n",
              "      <td>5267.0</td>\n",
              "      <td>Tonnes</td>\n",
              "      <td>1.696296</td>\n",
              "      <td>2002</td>\n",
              "      <td>2003</td>\n",
              "    </tr>\n",
              "    <tr>\n",
              "      <th>...</th>\n",
              "      <td>...</td>\n",
              "      <td>...</td>\n",
              "      <td>...</td>\n",
              "      <td>...</td>\n",
              "      <td>...</td>\n",
              "      <td>...</td>\n",
              "      <td>...</td>\n",
              "      <td>...</td>\n",
              "      <td>...</td>\n",
              "      <td>...</td>\n",
              "      <td>...</td>\n",
              "    </tr>\n",
              "    <tr>\n",
              "      <th>344094</th>\n",
              "      <td>West Bengal</td>\n",
              "      <td>PURBA BARDHAMAN</td>\n",
              "      <td>Wheat</td>\n",
              "      <td>Rabi</td>\n",
              "      <td>6310.0</td>\n",
              "      <td>Hectare</td>\n",
              "      <td>15280.0</td>\n",
              "      <td>Tonnes</td>\n",
              "      <td>2.421553</td>\n",
              "      <td>2000</td>\n",
              "      <td>2001</td>\n",
              "    </tr>\n",
              "    <tr>\n",
              "      <th>344095</th>\n",
              "      <td>West Bengal</td>\n",
              "      <td>PURULIA</td>\n",
              "      <td>Wheat</td>\n",
              "      <td>Rabi</td>\n",
              "      <td>1895.0</td>\n",
              "      <td>Hectare</td>\n",
              "      <td>2760.0</td>\n",
              "      <td>Tonnes</td>\n",
              "      <td>1.456464</td>\n",
              "      <td>1997</td>\n",
              "      <td>1998</td>\n",
              "    </tr>\n",
              "    <tr>\n",
              "      <th>344096</th>\n",
              "      <td>West Bengal</td>\n",
              "      <td>PURULIA</td>\n",
              "      <td>Wheat</td>\n",
              "      <td>Rabi</td>\n",
              "      <td>3736.0</td>\n",
              "      <td>Hectare</td>\n",
              "      <td>5530.0</td>\n",
              "      <td>Tonnes</td>\n",
              "      <td>1.480193</td>\n",
              "      <td>1998</td>\n",
              "      <td>1999</td>\n",
              "    </tr>\n",
              "    <tr>\n",
              "      <th>344097</th>\n",
              "      <td>West Bengal</td>\n",
              "      <td>PURULIA</td>\n",
              "      <td>Wheat</td>\n",
              "      <td>Rabi</td>\n",
              "      <td>2752.0</td>\n",
              "      <td>Hectare</td>\n",
              "      <td>6928.0</td>\n",
              "      <td>Tonnes</td>\n",
              "      <td>2.517442</td>\n",
              "      <td>1999</td>\n",
              "      <td>1900</td>\n",
              "    </tr>\n",
              "    <tr>\n",
              "      <th>344098</th>\n",
              "      <td>West Bengal</td>\n",
              "      <td>PURULIA</td>\n",
              "      <td>Wheat</td>\n",
              "      <td>Rabi</td>\n",
              "      <td>2979.0</td>\n",
              "      <td>Hectare</td>\n",
              "      <td>7430.0</td>\n",
              "      <td>Tonnes</td>\n",
              "      <td>2.494126</td>\n",
              "      <td>2000</td>\n",
              "      <td>2001</td>\n",
              "    </tr>\n",
              "  </tbody>\n",
              "</table>\n",
              "<p>330405 rows × 11 columns</p>\n",
              "</div>"
            ],
            "text/plain": [
              "                              State                  District      Crop  \\\n",
              "0       Andaman and Nicobar Islands                  NICOBARS  Arecanut   \n",
              "1       Andaman and Nicobar Islands                  NICOBARS  Arecanut   \n",
              "2       Andaman and Nicobar Islands                  NICOBARS  Arecanut   \n",
              "3       Andaman and Nicobar Islands  NORTH AND MIDDLE ANDAMAN  Arecanut   \n",
              "4       Andaman and Nicobar Islands            SOUTH ANDAMANS  Arecanut   \n",
              "...                             ...                       ...       ...   \n",
              "344094                  West Bengal           PURBA BARDHAMAN     Wheat   \n",
              "344095                  West Bengal                   PURULIA     Wheat   \n",
              "344096                  West Bengal                   PURULIA     Wheat   \n",
              "344097                  West Bengal                   PURULIA     Wheat   \n",
              "344098                  West Bengal                   PURULIA     Wheat   \n",
              "\n",
              "            Season    Area Area Units  Production Production Units     Yield  \\\n",
              "0           Kharif  1254.0    Hectare      2061.0           Tonnes  1.643541   \n",
              "1       Whole Year  1258.0    Hectare      2083.0           Tonnes  1.655803   \n",
              "2       Whole Year  1261.0    Hectare      1525.0           Tonnes  1.209358   \n",
              "3           Kharif  3100.0    Hectare      5239.0           Tonnes  1.690000   \n",
              "4       Whole Year  3105.0    Hectare      5267.0           Tonnes  1.696296   \n",
              "...            ...     ...        ...         ...              ...       ...   \n",
              "344094        Rabi  6310.0    Hectare     15280.0           Tonnes  2.421553   \n",
              "344095        Rabi  1895.0    Hectare      2760.0           Tonnes  1.456464   \n",
              "344096        Rabi  3736.0    Hectare      5530.0           Tonnes  1.480193   \n",
              "344097        Rabi  2752.0    Hectare      6928.0           Tonnes  2.517442   \n",
              "344098        Rabi  2979.0    Hectare      7430.0           Tonnes  2.494126   \n",
              "\n",
              "       start_year end_year  \n",
              "0            2001     2002  \n",
              "1            2002     2003  \n",
              "2            2003     2004  \n",
              "3            2001     2002  \n",
              "4            2002     2003  \n",
              "...           ...      ...  \n",
              "344094       2000     2001  \n",
              "344095       1997     1998  \n",
              "344096       1998     1999  \n",
              "344097       1999     1900  \n",
              "344098       2000     2001  \n",
              "\n",
              "[330405 rows x 11 columns]"
            ]
          },
          "execution_count": 149,
          "metadata": {},
          "output_type": "execute_result"
        }
      ],
      "source": [
        "ttn"
      ]
    },
    {
      "cell_type": "code",
      "execution_count": null,
      "id": "4ea1b1cf",
      "metadata": {
        "id": "4ea1b1cf"
      },
      "outputs": [],
      "source": [
        "tc = ttn.groupby(['Crop'])['Area'].sum().sort_values(ascending=False).to_frame()"
      ]
    },
    {
      "cell_type": "code",
      "execution_count": null,
      "id": "9c5de1f5",
      "metadata": {
        "id": "9c5de1f5"
      },
      "outputs": [],
      "source": [
        "tc = tc.reset_index()"
      ]
    },
    {
      "cell_type": "code",
      "execution_count": null,
      "id": "768cd5bf",
      "metadata": {
        "id": "768cd5bf",
        "outputId": "a0035574-c13e-450b-f66a-6851f8495895"
      },
      "outputs": [
        {
          "data": {
            "text/html": [
              "<div>\n",
              "<style scoped>\n",
              "    .dataframe tbody tr th:only-of-type {\n",
              "        vertical-align: middle;\n",
              "    }\n",
              "\n",
              "    .dataframe tbody tr th {\n",
              "        vertical-align: top;\n",
              "    }\n",
              "\n",
              "    .dataframe thead th {\n",
              "        text-align: right;\n",
              "    }\n",
              "</style>\n",
              "<table border=\"1\" class=\"dataframe\">\n",
              "  <thead>\n",
              "    <tr style=\"text-align: right;\">\n",
              "      <th></th>\n",
              "      <th>Crop</th>\n",
              "      <th>Area</th>\n",
              "    </tr>\n",
              "  </thead>\n",
              "  <tbody>\n",
              "    <tr>\n",
              "      <th>0</th>\n",
              "      <td>Rice</td>\n",
              "      <td>40821940.0</td>\n",
              "    </tr>\n",
              "    <tr>\n",
              "      <th>1</th>\n",
              "      <td>Groundnut</td>\n",
              "      <td>11136604.0</td>\n",
              "    </tr>\n",
              "    <tr>\n",
              "      <th>2</th>\n",
              "      <td>Urad</td>\n",
              "      <td>7220022.0</td>\n",
              "    </tr>\n",
              "    <tr>\n",
              "      <th>3</th>\n",
              "      <td>Jowar</td>\n",
              "      <td>7077660.0</td>\n",
              "    </tr>\n",
              "    <tr>\n",
              "      <th>4</th>\n",
              "      <td>Sugarcane</td>\n",
              "      <td>6204421.0</td>\n",
              "    </tr>\n",
              "    <tr>\n",
              "      <th>5</th>\n",
              "      <td>Maize</td>\n",
              "      <td>5155061.0</td>\n",
              "    </tr>\n",
              "    <tr>\n",
              "      <th>6</th>\n",
              "      <td>Moong(Green Gram)</td>\n",
              "      <td>3592697.0</td>\n",
              "    </tr>\n",
              "    <tr>\n",
              "      <th>7</th>\n",
              "      <td>Ragi</td>\n",
              "      <td>2259711.0</td>\n",
              "    </tr>\n",
              "    <tr>\n",
              "      <th>8</th>\n",
              "      <td>Tapioca</td>\n",
              "      <td>1884131.0</td>\n",
              "    </tr>\n",
              "    <tr>\n",
              "      <th>9</th>\n",
              "      <td>Bajra</td>\n",
              "      <td>1812435.0</td>\n",
              "    </tr>\n",
              "    <tr>\n",
              "      <th>10</th>\n",
              "      <td>Cashewnut</td>\n",
              "      <td>1762635.0</td>\n",
              "    </tr>\n",
              "    <tr>\n",
              "      <th>11</th>\n",
              "      <td>Banana</td>\n",
              "      <td>1740727.0</td>\n",
              "    </tr>\n",
              "    <tr>\n",
              "      <th>12</th>\n",
              "      <td>Sesamum</td>\n",
              "      <td>1595561.0</td>\n",
              "    </tr>\n",
              "    <tr>\n",
              "      <th>13</th>\n",
              "      <td>Horse-gram</td>\n",
              "      <td>1571400.0</td>\n",
              "    </tr>\n",
              "    <tr>\n",
              "      <th>14</th>\n",
              "      <td>Dry chillies</td>\n",
              "      <td>1075262.0</td>\n",
              "    </tr>\n",
              "    <tr>\n",
              "      <th>15</th>\n",
              "      <td>Arhar/Tur</td>\n",
              "      <td>995965.0</td>\n",
              "    </tr>\n",
              "    <tr>\n",
              "      <th>16</th>\n",
              "      <td>Other Kharif pulses</td>\n",
              "      <td>759783.0</td>\n",
              "    </tr>\n",
              "    <tr>\n",
              "      <th>17</th>\n",
              "      <td>Small millets</td>\n",
              "      <td>750262.0</td>\n",
              "    </tr>\n",
              "    <tr>\n",
              "      <th>18</th>\n",
              "      <td>Onion</td>\n",
              "      <td>571981.0</td>\n",
              "    </tr>\n",
              "    <tr>\n",
              "      <th>19</th>\n",
              "      <td>Turmeric</td>\n",
              "      <td>531615.0</td>\n",
              "    </tr>\n",
              "    <tr>\n",
              "      <th>20</th>\n",
              "      <td>Guar seed</td>\n",
              "      <td>332323.0</td>\n",
              "    </tr>\n",
              "    <tr>\n",
              "      <th>21</th>\n",
              "      <td>Coriander</td>\n",
              "      <td>330176.0</td>\n",
              "    </tr>\n",
              "    <tr>\n",
              "      <th>22</th>\n",
              "      <td>Sunflower</td>\n",
              "      <td>313500.0</td>\n",
              "    </tr>\n",
              "    <tr>\n",
              "      <th>23</th>\n",
              "      <td>Castor seed</td>\n",
              "      <td>242065.0</td>\n",
              "    </tr>\n",
              "    <tr>\n",
              "      <th>24</th>\n",
              "      <td>Cowpea(Lobia)</td>\n",
              "      <td>192329.0</td>\n",
              "    </tr>\n",
              "    <tr>\n",
              "      <th>25</th>\n",
              "      <td>Gram</td>\n",
              "      <td>139122.0</td>\n",
              "    </tr>\n",
              "    <tr>\n",
              "      <th>26</th>\n",
              "      <td>Masoor</td>\n",
              "      <td>131396.0</td>\n",
              "    </tr>\n",
              "    <tr>\n",
              "      <th>27</th>\n",
              "      <td>Other Cereals</td>\n",
              "      <td>113028.0</td>\n",
              "    </tr>\n",
              "    <tr>\n",
              "      <th>28</th>\n",
              "      <td>Arecanut</td>\n",
              "      <td>96605.0</td>\n",
              "    </tr>\n",
              "    <tr>\n",
              "      <th>29</th>\n",
              "      <td>Potato</td>\n",
              "      <td>82150.0</td>\n",
              "    </tr>\n",
              "    <tr>\n",
              "      <th>30</th>\n",
              "      <td>Tobacco</td>\n",
              "      <td>79157.0</td>\n",
              "    </tr>\n",
              "    <tr>\n",
              "      <th>31</th>\n",
              "      <td>Cardamom</td>\n",
              "      <td>70931.0</td>\n",
              "    </tr>\n",
              "    <tr>\n",
              "      <th>32</th>\n",
              "      <td>Black pepper</td>\n",
              "      <td>63360.0</td>\n",
              "    </tr>\n",
              "    <tr>\n",
              "      <th>33</th>\n",
              "      <td>Other Rabi pulses</td>\n",
              "      <td>52606.0</td>\n",
              "    </tr>\n",
              "    <tr>\n",
              "      <th>34</th>\n",
              "      <td>Sannhamp</td>\n",
              "      <td>20369.0</td>\n",
              "    </tr>\n",
              "    <tr>\n",
              "      <th>35</th>\n",
              "      <td>Sweet potato</td>\n",
              "      <td>15509.0</td>\n",
              "    </tr>\n",
              "    <tr>\n",
              "      <th>36</th>\n",
              "      <td>Garlic</td>\n",
              "      <td>13305.0</td>\n",
              "    </tr>\n",
              "    <tr>\n",
              "      <th>37</th>\n",
              "      <td>Ginger</td>\n",
              "      <td>9144.0</td>\n",
              "    </tr>\n",
              "    <tr>\n",
              "      <th>38</th>\n",
              "      <td>Rapeseed &amp;Mustard</td>\n",
              "      <td>7524.0</td>\n",
              "    </tr>\n",
              "    <tr>\n",
              "      <th>39</th>\n",
              "      <td>Niger seed</td>\n",
              "      <td>1877.0</td>\n",
              "    </tr>\n",
              "    <tr>\n",
              "      <th>40</th>\n",
              "      <td>Wheat</td>\n",
              "      <td>1069.0</td>\n",
              "    </tr>\n",
              "    <tr>\n",
              "      <th>41</th>\n",
              "      <td>Soyabean</td>\n",
              "      <td>630.0</td>\n",
              "    </tr>\n",
              "  </tbody>\n",
              "</table>\n",
              "</div>"
            ],
            "text/plain": [
              "                   Crop        Area\n",
              "0                  Rice  40821940.0\n",
              "1             Groundnut  11136604.0\n",
              "2                  Urad   7220022.0\n",
              "3                 Jowar   7077660.0\n",
              "4             Sugarcane   6204421.0\n",
              "5                 Maize   5155061.0\n",
              "6     Moong(Green Gram)   3592697.0\n",
              "7                  Ragi   2259711.0\n",
              "8               Tapioca   1884131.0\n",
              "9                 Bajra   1812435.0\n",
              "10            Cashewnut   1762635.0\n",
              "11               Banana   1740727.0\n",
              "12              Sesamum   1595561.0\n",
              "13           Horse-gram   1571400.0\n",
              "14         Dry chillies   1075262.0\n",
              "15            Arhar/Tur    995965.0\n",
              "16  Other Kharif pulses    759783.0\n",
              "17        Small millets    750262.0\n",
              "18                Onion    571981.0\n",
              "19             Turmeric    531615.0\n",
              "20            Guar seed    332323.0\n",
              "21            Coriander    330176.0\n",
              "22            Sunflower    313500.0\n",
              "23          Castor seed    242065.0\n",
              "24        Cowpea(Lobia)    192329.0\n",
              "25                 Gram    139122.0\n",
              "26               Masoor    131396.0\n",
              "27        Other Cereals    113028.0\n",
              "28             Arecanut     96605.0\n",
              "29               Potato     82150.0\n",
              "30              Tobacco     79157.0\n",
              "31             Cardamom     70931.0\n",
              "32         Black pepper     63360.0\n",
              "33    Other Rabi pulses     52606.0\n",
              "34             Sannhamp     20369.0\n",
              "35         Sweet potato     15509.0\n",
              "36               Garlic     13305.0\n",
              "37               Ginger      9144.0\n",
              "38    Rapeseed &Mustard      7524.0\n",
              "39           Niger seed      1877.0\n",
              "40                Wheat      1069.0\n",
              "41             Soyabean       630.0"
            ]
          },
          "execution_count": 127,
          "metadata": {},
          "output_type": "execute_result"
        }
      ],
      "source": [
        "tc"
      ]
    },
    {
      "cell_type": "code",
      "execution_count": null,
      "id": "bdc813ee",
      "metadata": {
        "id": "bdc813ee",
        "outputId": "84d8a33b-40af-4aab-e2a6-0c28365045b8"
      },
      "outputs": [
        {
          "data": {
            "image/png": "[encoded data removed]",
            "text/plain": [
              "<Figure size 1500x1000 with 1 Axes>"
            ]
          },
          "metadata": {},
          "output_type": "display_data"
        }
      ],
      "source": [
        "sns.set(rc={\"figure.figsize\" :(15,10)})\n",
        "ax = sns.barplot(data=tc,x='Crop',y='Area')\n",
        "ax.tick_params(axis='x',rotation=90)"
      ]
    },
    {
      "cell_type": "code",
      "execution_count": null,
      "id": "79a1fbbb",
      "metadata": {
        "id": "79a1fbbb"
      },
      "outputs": [],
      "source": [
        "tc = df.groupby(['District'])['Area'].sum().sort_values(ascending=False).nlargest(10).to_frame()"
      ]
    },
    {
      "cell_type": "code",
      "execution_count": null,
      "id": "588d9291",
      "metadata": {
        "id": "588d9291"
      },
      "outputs": [],
      "source": [
        "tc = tc.reset_index()"
      ]
    },
    {
      "cell_type": "code",
      "execution_count": null,
      "id": "99baa983",
      "metadata": {
        "id": "99baa983",
        "outputId": "cd10d806-ab0d-40b2-f483-58246bcfcf1a"
      },
      "outputs": [
        {
          "data": {
            "text/html": [
              "<div>\n",
              "<style scoped>\n",
              "    .dataframe tbody tr th:only-of-type {\n",
              "        vertical-align: middle;\n",
              "    }\n",
              "\n",
              "    .dataframe tbody tr th {\n",
              "        vertical-align: top;\n",
              "    }\n",
              "\n",
              "    .dataframe thead th {\n",
              "        text-align: right;\n",
              "    }\n",
              "</style>\n",
              "<table border=\"1\" class=\"dataframe\">\n",
              "  <thead>\n",
              "    <tr style=\"text-align: right;\">\n",
              "      <th></th>\n",
              "      <th>District</th>\n",
              "      <th>Area</th>\n",
              "    </tr>\n",
              "  </thead>\n",
              "  <tbody>\n",
              "    <tr>\n",
              "      <th>0</th>\n",
              "      <td>BARMER</td>\n",
              "      <td>34913038.0</td>\n",
              "    </tr>\n",
              "    <tr>\n",
              "      <th>1</th>\n",
              "      <td>BIKANER</td>\n",
              "      <td>32721751.0</td>\n",
              "    </tr>\n",
              "    <tr>\n",
              "      <th>2</th>\n",
              "      <td>NAGAUR</td>\n",
              "      <td>31326366.0</td>\n",
              "    </tr>\n",
              "    <tr>\n",
              "      <th>3</th>\n",
              "      <td>CHURU</td>\n",
              "      <td>30812131.0</td>\n",
              "    </tr>\n",
              "    <tr>\n",
              "      <th>4</th>\n",
              "      <td>JODHPUR</td>\n",
              "      <td>29074886.0</td>\n",
              "    </tr>\n",
              "    <tr>\n",
              "      <th>5</th>\n",
              "      <td>AHMEDNAGAR</td>\n",
              "      <td>28629947.0</td>\n",
              "    </tr>\n",
              "    <tr>\n",
              "      <th>6</th>\n",
              "      <td>GULBARGA</td>\n",
              "      <td>27381644.0</td>\n",
              "    </tr>\n",
              "    <tr>\n",
              "      <th>7</th>\n",
              "      <td>HANUMANGARH</td>\n",
              "      <td>26062838.0</td>\n",
              "    </tr>\n",
              "    <tr>\n",
              "      <th>8</th>\n",
              "      <td>AURANGABAD</td>\n",
              "      <td>25862464.0</td>\n",
              "    </tr>\n",
              "    <tr>\n",
              "      <th>9</th>\n",
              "      <td>ANANTAPUR</td>\n",
              "      <td>24861065.0</td>\n",
              "    </tr>\n",
              "  </tbody>\n",
              "</table>\n",
              "</div>"
            ],
            "text/plain": [
              "      District        Area\n",
              "0       BARMER  34913038.0\n",
              "1      BIKANER  32721751.0\n",
              "2       NAGAUR  31326366.0\n",
              "3        CHURU  30812131.0\n",
              "4      JODHPUR  29074886.0\n",
              "5   AHMEDNAGAR  28629947.0\n",
              "6     GULBARGA  27381644.0\n",
              "7  HANUMANGARH  26062838.0\n",
              "8   AURANGABAD  25862464.0\n",
              "9    ANANTAPUR  24861065.0"
            ]
          },
          "execution_count": 140,
          "metadata": {},
          "output_type": "execute_result"
        }
      ],
      "source": [
        "tc"
      ]
    },
    {
      "cell_type": "code",
      "execution_count": null,
      "id": "00064645",
      "metadata": {
        "id": "00064645",
        "outputId": "83f7d103-d472-4bc0-f838-2c73c737bec3"
      },
      "outputs": [
        {
          "data": {
            "image/png": "[encoded data removed]",
            "text/plain": [
              "<Figure size 1500x1000 with 1 Axes>"
            ]
          },
          "metadata": {},
          "output_type": "display_data"
        }
      ],
      "source": [
        "sns.set(rc={\"figure.figsize\" :(15,10)})\n",
        "ax = sns.barplot(data=tc,x='District',y='Area')\n",
        "ax.tick_params(axis='x',rotation=90)"
      ]
    },
    {
      "cell_type": "code",
      "execution_count": null,
      "id": "6dd236bc",
      "metadata": {
        "id": "6dd236bc"
      },
      "outputs": [],
      "source": [
        "tc = df.groupby(['District'])['Area'].sum().sort_values(ascending=False).nsmallest(10).to_frame()\n",
        "tc = tc.reset_index()"
      ]
    },
    {
      "cell_type": "code",
      "execution_count": null,
      "id": "17455a32",
      "metadata": {
        "id": "17455a32",
        "outputId": "f872c6f5-cb1e-46eb-ed38-56842ee1b485"
      },
      "outputs": [
        {
          "data": {
            "image/png": "[encoded data removed]",
            "text/plain": [
              "<Figure size 1500x1000 with 1 Axes>"
            ]
          },
          "metadata": {},
          "output_type": "display_data"
        }
      ],
      "source": [
        "sns.set(rc={\"figure.figsize\" :(15,10)})\n",
        "ax = sns.barplot(data=tc,x='District',y='Area')\n",
        "ax.tick_params(axis='x',rotation=90)"
      ]
    },
    {
      "cell_type": "code",
      "execution_count": null,
      "id": "5f4e10f2",
      "metadata": {
        "id": "5f4e10f2"
      },
      "outputs": [],
      "source": [
        "tc = df.groupby(['State'])['Area'].sum().sort_values(ascending=False).to_frame()\n",
        "tc = tc.reset_index()"
      ]
    },
    {
      "cell_type": "code",
      "execution_count": null,
      "id": "5946052b",
      "metadata": {
        "id": "5946052b",
        "outputId": "ef34d162-44da-4db6-baea-4b8631f4cd4f"
      },
      "outputs": [
        {
          "data": {
            "image/png": "[encoded data removed]",
            "text/plain": [
              "<Figure size 1500x1000 with 1 Axes>"
            ]
          },
          "metadata": {},
          "output_type": "display_data"
        }
      ],
      "source": [
        "sns.set(rc={\"figure.figsize\" :(15,10)})\n",
        "ax = sns.barplot(data=tc,x='State',y='Area')\n",
        "ax.tick_params(axis='x',rotation=90)"
      ]
    },
    {
      "cell_type": "code",
      "execution_count": null,
      "id": "ef2a0737",
      "metadata": {
        "id": "ef2a0737"
      },
      "outputs": [],
      "source": [
        "tc = ttn.groupby(['State'])['Production'].sum().sort_values(ascending=False).to_frame()\n",
        "tc = tc.reset_index()"
      ]
    },
    {
      "cell_type": "code",
      "execution_count": null,
      "id": "de7b311d",
      "metadata": {
        "id": "de7b311d",
        "outputId": "12bebe1b-371a-479a-e7b4-7c5cb8d94258"
      },
      "outputs": [
        {
          "data": {
            "image/png": "[encoded data removed]",
            "text/plain": [
              "<Figure size 1500x1000 with 1 Axes>"
            ]
          },
          "metadata": {},
          "output_type": "display_data"
        }
      ],
      "source": [
        "sns.set(rc={\"figure.figsize\" :(15,10)})\n",
        "ax = sns.barplot(data=tc,x='State',y='Production')\n",
        "ax.tick_params(axis='x',rotation=90)"
      ]
    },
    {
      "cell_type": "code",
      "execution_count": null,
      "id": "efdb06d5",
      "metadata": {
        "id": "efdb06d5",
        "outputId": "9896f95c-d361-4b63-96a3-1cf746d128a6"
      },
      "outputs": [
        {
          "data": {
            "text/plain": [
              "Rice                   900\n",
              "Arecanut               322\n",
              "Black pepper           322\n",
              "Cashewnut              322\n",
              "Tapioca                322\n",
              "Turmeric               308\n",
              "Ginger                 308\n",
              "Banana                 308\n",
              "Sweet potato           264\n",
              "Sugarcane              255\n",
              "Sesamum                221\n",
              "Cardamom               184\n",
              "Jowar                   56\n",
              "Ragi                    54\n",
              "Other Kharif pulses     50\n",
              "Cowpea(Lobia)           34\n",
              "Moong(Green Gram)       25\n",
              "Groundnut               25\n",
              "Potato                  24\n",
              "Maize                   22\n",
              "Tobacco                 21\n",
              "Arhar/Tur               21\n",
              "Garlic                  20\n",
              "Urad                    19\n",
              "Other Cereals           18\n",
              "Small millets           18\n",
              "Gram                    15\n",
              "Dry chillies            15\n",
              "other oilseeds          14\n",
              "Onion                   12\n",
              "Horse-gram              10\n",
              "Other Rabi pulses        9\n",
              "Wheat                    7\n",
              "Soyabean                 4\n",
              "Sunflower                1\n",
              "Name: Crop, dtype: int64"
            ]
          },
          "execution_count": 155,
          "metadata": {},
          "output_type": "execute_result"
        }
      ],
      "source": [
        "ttn[ttn['State']=='Kerala']['Crop'].value_counts()"
      ]
    },
    {
      "cell_type": "code",
      "execution_count": null,
      "id": "ab13324a",
      "metadata": {
        "id": "ab13324a"
      },
      "outputs": [],
      "source": []
    }
  ],
  "metadata": {
    "kernelspec": {
      "display_name": "Python 3 (ipykernel)",
      "language": "python",
      "name": "python3"
    },
    "language_info": {
      "codemirror_mode": {
        "name": "ipython",
        "version": 3
      },
      "file_extension": ".py",
      "mimetype": "text/x-python",
      "name": "python",
      "nbconvert_exporter": "python",
      "pygments_lexer": "ipython3",
      "version": "3.11.0"
    },
    "colab": {
      "provenance": []
    }
  },
  "nbformat": 4,
  "nbformat_minor": 5
}